{
 "cells": [
  {
   "cell_type": "markdown",
   "metadata": {},
   "source": [
    "# Many-run output analysis\n",
    "\n",
    "This notebook will look at the outputs of a set of CRAB model runs with variance due to stochasticity and sweeping over the parameter space. A simpler version of this notebook is available in [single_run_anal.ipynb](./single_run_anal.ipynb), which studies just one model run. That file is useful for acquainting oneself with which system (Model & Agent) variables are captured in the output data and how they might vary over a given model run.\n",
    "\n",
    "## Set-up & Loading Data"
   ]
  }
 ],
 "metadata": {
  "kernelspec": {
   "display_name": "venv",
   "language": "python",
   "name": "python3"
  },
  "language_info": {
   "name": "python",
   "version": "3.11.3"
  }
 },
 "nbformat": 4,
 "nbformat_minor": 2
}
