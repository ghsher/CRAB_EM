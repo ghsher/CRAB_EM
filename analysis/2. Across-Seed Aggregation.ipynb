{
 "cells": [
  {
   "cell_type": "markdown",
   "metadata": {},
   "source": [
    "### Set-up"
   ]
  },
  {
   "cell_type": "code",
   "execution_count": 1,
   "metadata": {},
   "outputs": [],
   "source": [
    "from collections import defaultdict"
   ]
  },
  {
   "cell_type": "code",
   "execution_count": 2,
   "metadata": {},
   "outputs": [],
   "source": [
    "import pandas as pd\n",
    "import numpy as np\n",
    "import seaborn as sns\n",
    "import matplotlib.pyplot as plt\n",
    "import matplotlib as mpl"
   ]
  },
  {
   "cell_type": "code",
   "execution_count": 3,
   "metadata": {},
   "outputs": [],
   "source": [
    "from ema_workbench import load_results, save_results, TimeSeriesOutcome"
   ]
  },
  {
   "cell_type": "code",
   "execution_count": 4,
   "metadata": {},
   "outputs": [],
   "source": [
    "path = '../results/no_flood/'\n",
    "file_name = '2000_scen__40_reps__0703__burned_in'\n",
    "file_ext  = '.tar.gz'"
   ]
  },
  {
   "cell_type": "code",
   "execution_count": 5,
   "metadata": {},
   "outputs": [
    {
     "data": {
      "text/plain": [
       "40"
      ]
     },
     "execution_count": 5,
     "metadata": {},
     "output_type": "execute_result"
    }
   ],
   "source": [
    "N_REPS = int(file_name.split('__')[1].split('_')[0])\n",
    "N_REPS"
   ]
  },
  {
   "cell_type": "code",
   "execution_count": 6,
   "metadata": {},
   "outputs": [],
   "source": [
    "experiments, outcomes = load_results(path+file_name+file_ext)"
   ]
  },
  {
   "cell_type": "code",
   "execution_count": 7,
   "metadata": {},
   "outputs": [
    {
     "data": {
      "text/plain": [
       "['Household Population',\n",
       " 'Unemployment Rate',\n",
       " 'Gini Coefficient',\n",
       " 'Median Net Worth',\n",
       " 'Median House Value',\n",
       " 'Median Wage',\n",
       " 'Minimum Wage',\n",
       " 'Total Household Damages',\n",
       " 'Average Income-Weighted Damages',\n",
       " 'Firm Population',\n",
       " 'GDP',\n",
       " 'Total Firm Resources',\n",
       " 'Total Firm Debt',\n",
       " 'CapitalFirm Population',\n",
       " 'CapitalFirm Production Made',\n",
       " 'ConsumptionGoodFirm Population',\n",
       " 'ConsumptionGoodFirm Production Made',\n",
       " 'ServiceFirm Population',\n",
       " 'ServiceFirm Production Made']"
      ]
     },
     "execution_count": 7,
     "metadata": {},
     "output_type": "execute_result"
    }
   ],
   "source": [
    "[k for k in outcomes]"
   ]
  },
  {
   "cell_type": "code",
   "execution_count": 8,
   "metadata": {},
   "outputs": [
    {
     "data": {
      "text/plain": [
       "['Household Population', 'Gini Coefficient', 'Median Wage', 'GDP']"
      ]
     },
     "execution_count": 8,
     "metadata": {},
     "output_type": "execute_result"
    }
   ],
   "source": [
    "oois = [\n",
    "    'Household Population',\n",
    "    'GDP',\n",
    "    'Gini Coefficient',\n",
    "    'Median Wage',\n",
    "]\n",
    "oois = [out for out in outcomes if out in oois or out[10:] in oois]\n",
    "oois"
   ]
  },
  {
   "cell_type": "markdown",
   "metadata": {},
   "source": [
    "## Calculating Across-Seed Variance & Other Measures\n",
    "\n",
    "Need: one or measures of how each outcome varies across seeds (i.e., replications), at a single input sample\n",
    "\n",
    "Measures: Variance (and therefore standard deviation)? I think that's just it. I can't think of other measures of entropy. I can also calculate mean and put them together to get 95% CIs.\n",
    "\n",
    "Later: will apply SD processes to evaluate how ASV itself varies across the input space (dim stacking, subspace partitioning, etc.). Can also apply FS to the ASV to see which inputs are important to it. \n",
    "\n",
    "Then finally can do the rule of thumb check."
   ]
  },
  {
   "cell_type": "markdown",
   "metadata": {},
   "source": [
    "Each key in `outcomes` is associated with a 2D array. The inner dimension contains the timeseries outcomes of a single model run (i.e., input sample x replication). The outer dimension contains the runs together."
   ]
  },
  {
   "cell_type": "code",
   "execution_count": 9,
   "metadata": {},
   "outputs": [
    {
     "name": "stdout",
     "output_type": "stream",
     "text": [
      "Number of runs: 80000\n",
      "Length of one run: 100\n"
     ]
    }
   ],
   "source": [
    "print(f\"Number of runs: {len(outcomes['GDP'])}\")\n",
    "print(f\"Length of one run: {len(outcomes['GDP'][0])}\")"
   ]
  },
  {
   "cell_type": "markdown",
   "metadata": {},
   "source": [
    "### Exploration\n",
    "We want to be able to index these arrays to access all runs associated with a specific *scenario*, which should each have a different seed. Conveniently, the `experiments` DataFrame gives scenarios (i.e., input samples) an ID to help with this."
   ]
  },
  {
   "cell_type": "code",
   "execution_count": 10,
   "metadata": {},
   "outputs": [
    {
     "data": {
      "text/html": [
       "<div>\n",
       "<style scoped>\n",
       "    .dataframe tbody tr th:only-of-type {\n",
       "        vertical-align: middle;\n",
       "    }\n",
       "\n",
       "    .dataframe tbody tr th {\n",
       "        vertical-align: top;\n",
       "    }\n",
       "\n",
       "    .dataframe thead th {\n",
       "        text-align: right;\n",
       "    }\n",
       "</style>\n",
       "<table border=\"1\" class=\"dataframe\">\n",
       "  <thead>\n",
       "    <tr style=\"text-align: right;\">\n",
       "      <th></th>\n",
       "      <th>debt_sales_ratio</th>\n",
       "      <th>wage_sensitivity_prod</th>\n",
       "      <th>init_markup</th>\n",
       "      <th>capital_firm_cap_out_ratio</th>\n",
       "      <th>min_unempl_emigration</th>\n",
       "      <th>migration_unempl_bounds_diff</th>\n",
       "      <th>deu_discount_factor</th>\n",
       "      <th>flood_timing</th>\n",
       "      <th>scenario</th>\n",
       "      <th>policy</th>\n",
       "      <th>model</th>\n",
       "      <th>seed</th>\n",
       "    </tr>\n",
       "  </thead>\n",
       "  <tbody>\n",
       "    <tr>\n",
       "      <th>0</th>\n",
       "      <td>3.974297</td>\n",
       "      <td>0.712775</td>\n",
       "      <td>0.099379</td>\n",
       "      <td>0.297524</td>\n",
       "      <td>0.040977</td>\n",
       "      <td>0.136866</td>\n",
       "      <td>0.95654</td>\n",
       "      <td>33</td>\n",
       "      <td>0</td>\n",
       "      <td>NaN</td>\n",
       "      <td>CRAB</td>\n",
       "      <td>0</td>\n",
       "    </tr>\n",
       "    <tr>\n",
       "      <th>2000</th>\n",
       "      <td>3.974297</td>\n",
       "      <td>0.712775</td>\n",
       "      <td>0.099379</td>\n",
       "      <td>0.297524</td>\n",
       "      <td>0.040977</td>\n",
       "      <td>0.136866</td>\n",
       "      <td>0.95654</td>\n",
       "      <td>33</td>\n",
       "      <td>0</td>\n",
       "      <td>NaN</td>\n",
       "      <td>CRAB</td>\n",
       "      <td>1</td>\n",
       "    </tr>\n",
       "    <tr>\n",
       "      <th>4000</th>\n",
       "      <td>3.974297</td>\n",
       "      <td>0.712775</td>\n",
       "      <td>0.099379</td>\n",
       "      <td>0.297524</td>\n",
       "      <td>0.040977</td>\n",
       "      <td>0.136866</td>\n",
       "      <td>0.95654</td>\n",
       "      <td>33</td>\n",
       "      <td>0</td>\n",
       "      <td>NaN</td>\n",
       "      <td>CRAB</td>\n",
       "      <td>2</td>\n",
       "    </tr>\n",
       "  </tbody>\n",
       "</table>\n",
       "</div>"
      ],
      "text/plain": [
       "      debt_sales_ratio  wage_sensitivity_prod  init_markup  \\\n",
       "0             3.974297               0.712775     0.099379   \n",
       "2000          3.974297               0.712775     0.099379   \n",
       "4000          3.974297               0.712775     0.099379   \n",
       "\n",
       "      capital_firm_cap_out_ratio  min_unempl_emigration  \\\n",
       "0                       0.297524               0.040977   \n",
       "2000                    0.297524               0.040977   \n",
       "4000                    0.297524               0.040977   \n",
       "\n",
       "      migration_unempl_bounds_diff  deu_discount_factor  flood_timing  \\\n",
       "0                         0.136866              0.95654            33   \n",
       "2000                      0.136866              0.95654            33   \n",
       "4000                      0.136866              0.95654            33   \n",
       "\n",
       "      scenario policy model  seed  \n",
       "0            0    NaN  CRAB     0  \n",
       "2000         0    NaN  CRAB     1  \n",
       "4000         0    NaN  CRAB     2  "
      ]
     },
     "execution_count": 10,
     "metadata": {},
     "output_type": "execute_result"
    }
   ],
   "source": [
    "experiments[experiments.scenario == 0].head(3)"
   ]
  },
  {
   "cell_type": "code",
   "execution_count": 11,
   "metadata": {},
   "outputs": [
    {
     "data": {
      "text/plain": [
       "Index([    0,  2000,  4000,  6000,  8000, 10000, 12000, 14000, 16000, 18000,\n",
       "       20000, 22000, 24000, 26000, 28000, 30000, 32000, 34000, 36000, 38000,\n",
       "       40000, 42000, 44000, 46000, 48000, 50000, 52000, 54000, 56000, 58000,\n",
       "       60000, 62000, 64000, 66000, 68000, 70000, 72000, 74000, 76000, 78000],\n",
       "      dtype='int64')"
      ]
     },
     "execution_count": 11,
     "metadata": {},
     "output_type": "execute_result"
    }
   ],
   "source": [
    "experiments[experiments.scenario == 0].index"
   ]
  },
  {
   "cell_type": "markdown",
   "metadata": {},
   "source": [
    "We can use these indices to extract each scenario separately. Here's a demo:"
   ]
  },
  {
   "cell_type": "code",
   "execution_count": 12,
   "metadata": {},
   "outputs": [
    {
     "name": "stdout",
     "output_type": "stream",
     "text": [
      "GDP outcome array, subset for just Scenario 0:\n",
      "[[16671.009 15279.165 15762.723 ... 26519.643 26596.539 27142.197]\n",
      " [17267.385 14947.011 15356.769 ... 30143.235 31067.721 31003.245]\n",
      " [13905.834 16322.07  15362.307 ... 21469.296 20922.531 20602.881]\n",
      " ...\n",
      " [14685.648 15718.701 14874.426 ... 17384.991 17353.026 16533.675]\n",
      " [17371.623 16178.499 15980.748 ... 28049.769 29226.273 29198.91 ]\n",
      " [17012.802 16393.353 15531.459 ... 20929.62  21414.063 22090.767]]\n",
      "\n",
      "Number of runs in this subset (i.e., number of replications):\n",
      "40\n"
     ]
    }
   ],
   "source": [
    "print(f\"GDP outcome array, subset for just Scenario 0:\")\n",
    "print(outcomes['GDP'][experiments[experiments.scenario == 0].index])\n",
    "print(\"\")\n",
    "print(f\"Number of runs in this subset (i.e., number of replications):\")\n",
    "print(len(outcomes['GDP'][experiments[experiments.scenario == 0].index]))"
   ]
  },
  {
   "cell_type": "markdown",
   "metadata": {},
   "source": [
    "### Aggregating the `outcomes` dictionary"
   ]
  },
  {
   "cell_type": "code",
   "execution_count": 13,
   "metadata": {},
   "outputs": [
    {
     "data": {
      "text/plain": [
       "array([   0,    1,    2, ..., 1997, 1998, 1999], dtype=int64)"
      ]
     },
     "execution_count": 13,
     "metadata": {},
     "output_type": "execute_result"
    }
   ],
   "source": [
    "scenarios = experiments.scenario.unique()\n",
    "scenarios"
   ]
  },
  {
   "cell_type": "code",
   "execution_count": 14,
   "metadata": {},
   "outputs": [],
   "source": [
    "new_outcomes = defaultdict(list)\n",
    "\n",
    "for ooi in oois:\n",
    "    for scenario in scenarios:\n",
    "        # Get the N (40) timeseries outcomes of interest\n",
    "        replications = outcomes[ooi][experiments[experiments.scenario == scenario].index]\n",
    "        \n",
    "        # Calculate variance and standard deviation\n",
    "        var = np.var(replications, axis=0, ddof=1)\n",
    "        std = np.std(replications, axis=0, ddof=1)\n",
    "        mean = np.mean(replications, axis=0)\n",
    "\n",
    "        # Add to datastructure\n",
    "        #  new_outcomes['<metric>(Outcome)'][x], where x == scenario id,\n",
    "        #   contains <metric>(Outcome) as a timeseries\n",
    "        new_outcomes[f\"{ooi}\"].append(mean)\n",
    "        new_outcomes[f\"STD[{ooi}]\"].append(std)\n",
    "        new_outcomes[f\"VAR[{ooi}]\"].append(var)\n",
    "        new_outcomes[f\"95CI_LO[{ooi}]\"].append(mean - 2*std)\n",
    "        new_outcomes[f\"95CI_HI[{ooi}]\"].append(mean + 2*std)"
   ]
  },
  {
   "cell_type": "code",
   "execution_count": 15,
   "metadata": {},
   "outputs": [],
   "source": [
    "# Turn into NP arrays\n",
    "for key in new_outcomes:\n",
    "    ema_outcome = TimeSeriesOutcome(key)\n",
    "    new_outcomes[key] = np.array(new_outcomes[key])"
   ]
  },
  {
   "cell_type": "code",
   "execution_count": 16,
   "metadata": {},
   "outputs": [
    {
     "data": {
      "text/plain": [
       "0.008109027860747523"
      ]
     },
     "execution_count": 16,
     "metadata": {},
     "output_type": "execute_result"
    }
   ],
   "source": [
    "new_outcomes['STD[Gini Coefficient]'][0][24]"
   ]
  },
  {
   "cell_type": "markdown",
   "metadata": {},
   "source": [
    "### Aggregating the `experiments` DataFrame"
   ]
  },
  {
   "cell_type": "code",
   "execution_count": 17,
   "metadata": {},
   "outputs": [
    {
     "data": {
      "text/plain": [
       "['debt_sales_ratio',\n",
       " 'wage_sensitivity_prod',\n",
       " 'init_markup',\n",
       " 'capital_firm_cap_out_ratio',\n",
       " 'min_unempl_emigration',\n",
       " 'migration_unempl_bounds_diff',\n",
       " 'deu_discount_factor',\n",
       " 'flood_timing',\n",
       " 'scenario']"
      ]
     },
     "execution_count": 17,
     "metadata": {},
     "output_type": "execute_result"
    }
   ],
   "source": [
    "uncertainties = list(experiments.columns)\n",
    "for col in ['policy', 'model', 'seed']:\n",
    "    uncertainties.remove(col)\n",
    "uncertainties"
   ]
  },
  {
   "cell_type": "code",
   "execution_count": 18,
   "metadata": {},
   "outputs": [
    {
     "data": {
      "text/html": [
       "<div>\n",
       "<style scoped>\n",
       "    .dataframe tbody tr th:only-of-type {\n",
       "        vertical-align: middle;\n",
       "    }\n",
       "\n",
       "    .dataframe tbody tr th {\n",
       "        vertical-align: top;\n",
       "    }\n",
       "\n",
       "    .dataframe thead th {\n",
       "        text-align: right;\n",
       "    }\n",
       "</style>\n",
       "<table border=\"1\" class=\"dataframe\">\n",
       "  <thead>\n",
       "    <tr style=\"text-align: right;\">\n",
       "      <th></th>\n",
       "      <th>debt_sales_ratio</th>\n",
       "      <th>wage_sensitivity_prod</th>\n",
       "      <th>init_markup</th>\n",
       "      <th>capital_firm_cap_out_ratio</th>\n",
       "      <th>min_unempl_emigration</th>\n",
       "      <th>migration_unempl_bounds_diff</th>\n",
       "      <th>deu_discount_factor</th>\n",
       "      <th>flood_timing</th>\n",
       "      <th>scenario</th>\n",
       "      <th>policy</th>\n",
       "      <th>model</th>\n",
       "    </tr>\n",
       "  </thead>\n",
       "  <tbody>\n",
       "    <tr>\n",
       "      <th>0</th>\n",
       "      <td>3.974297</td>\n",
       "      <td>0.712775</td>\n",
       "      <td>0.099379</td>\n",
       "      <td>0.297524</td>\n",
       "      <td>0.040977</td>\n",
       "      <td>0.136866</td>\n",
       "      <td>0.956540</td>\n",
       "      <td>33.0</td>\n",
       "      <td>0</td>\n",
       "      <td>NaN</td>\n",
       "      <td>CRAB</td>\n",
       "    </tr>\n",
       "    <tr>\n",
       "      <th>1</th>\n",
       "      <td>4.388648</td>\n",
       "      <td>0.624767</td>\n",
       "      <td>0.069494</td>\n",
       "      <td>0.246466</td>\n",
       "      <td>0.031566</td>\n",
       "      <td>0.160825</td>\n",
       "      <td>0.857878</td>\n",
       "      <td>76.0</td>\n",
       "      <td>1</td>\n",
       "      <td>NaN</td>\n",
       "      <td>CRAB</td>\n",
       "    </tr>\n",
       "    <tr>\n",
       "      <th>2</th>\n",
       "      <td>3.970944</td>\n",
       "      <td>0.929448</td>\n",
       "      <td>0.489306</td>\n",
       "      <td>0.339357</td>\n",
       "      <td>0.051214</td>\n",
       "      <td>0.166170</td>\n",
       "      <td>0.954534</td>\n",
       "      <td>34.0</td>\n",
       "      <td>2</td>\n",
       "      <td>NaN</td>\n",
       "      <td>CRAB</td>\n",
       "    </tr>\n",
       "    <tr>\n",
       "      <th>3</th>\n",
       "      <td>0.972112</td>\n",
       "      <td>0.595822</td>\n",
       "      <td>0.229186</td>\n",
       "      <td>0.399390</td>\n",
       "      <td>0.058033</td>\n",
       "      <td>0.145984</td>\n",
       "      <td>0.827532</td>\n",
       "      <td>46.0</td>\n",
       "      <td>3</td>\n",
       "      <td>NaN</td>\n",
       "      <td>CRAB</td>\n",
       "    </tr>\n",
       "    <tr>\n",
       "      <th>4</th>\n",
       "      <td>2.097049</td>\n",
       "      <td>0.085739</td>\n",
       "      <td>0.102101</td>\n",
       "      <td>0.530068</td>\n",
       "      <td>0.059356</td>\n",
       "      <td>0.146438</td>\n",
       "      <td>0.858569</td>\n",
       "      <td>72.0</td>\n",
       "      <td>4</td>\n",
       "      <td>NaN</td>\n",
       "      <td>CRAB</td>\n",
       "    </tr>\n",
       "    <tr>\n",
       "      <th>...</th>\n",
       "      <td>...</td>\n",
       "      <td>...</td>\n",
       "      <td>...</td>\n",
       "      <td>...</td>\n",
       "      <td>...</td>\n",
       "      <td>...</td>\n",
       "      <td>...</td>\n",
       "      <td>...</td>\n",
       "      <td>...</td>\n",
       "      <td>...</td>\n",
       "      <td>...</td>\n",
       "    </tr>\n",
       "    <tr>\n",
       "      <th>1995</th>\n",
       "      <td>3.200478</td>\n",
       "      <td>0.471664</td>\n",
       "      <td>0.139773</td>\n",
       "      <td>0.390861</td>\n",
       "      <td>0.037946</td>\n",
       "      <td>0.242404</td>\n",
       "      <td>0.825514</td>\n",
       "      <td>61.0</td>\n",
       "      <td>1995</td>\n",
       "      <td>NaN</td>\n",
       "      <td>CRAB</td>\n",
       "    </tr>\n",
       "    <tr>\n",
       "      <th>1996</th>\n",
       "      <td>3.591290</td>\n",
       "      <td>0.208159</td>\n",
       "      <td>0.338511</td>\n",
       "      <td>0.324545</td>\n",
       "      <td>0.050687</td>\n",
       "      <td>0.220237</td>\n",
       "      <td>0.821360</td>\n",
       "      <td>44.0</td>\n",
       "      <td>1996</td>\n",
       "      <td>NaN</td>\n",
       "      <td>CRAB</td>\n",
       "    </tr>\n",
       "    <tr>\n",
       "      <th>1997</th>\n",
       "      <td>4.485911</td>\n",
       "      <td>0.554342</td>\n",
       "      <td>0.224410</td>\n",
       "      <td>0.422127</td>\n",
       "      <td>0.071176</td>\n",
       "      <td>0.202716</td>\n",
       "      <td>0.821195</td>\n",
       "      <td>40.0</td>\n",
       "      <td>1997</td>\n",
       "      <td>NaN</td>\n",
       "      <td>CRAB</td>\n",
       "    </tr>\n",
       "    <tr>\n",
       "      <th>1998</th>\n",
       "      <td>1.809927</td>\n",
       "      <td>0.981881</td>\n",
       "      <td>0.183219</td>\n",
       "      <td>0.200401</td>\n",
       "      <td>0.037715</td>\n",
       "      <td>0.114086</td>\n",
       "      <td>0.970333</td>\n",
       "      <td>69.0</td>\n",
       "      <td>1998</td>\n",
       "      <td>NaN</td>\n",
       "      <td>CRAB</td>\n",
       "    </tr>\n",
       "    <tr>\n",
       "      <th>1999</th>\n",
       "      <td>2.992259</td>\n",
       "      <td>0.862928</td>\n",
       "      <td>0.366707</td>\n",
       "      <td>0.451228</td>\n",
       "      <td>0.039643</td>\n",
       "      <td>0.158670</td>\n",
       "      <td>0.945219</td>\n",
       "      <td>34.0</td>\n",
       "      <td>1999</td>\n",
       "      <td>NaN</td>\n",
       "      <td>CRAB</td>\n",
       "    </tr>\n",
       "  </tbody>\n",
       "</table>\n",
       "<p>2000 rows × 11 columns</p>\n",
       "</div>"
      ],
      "text/plain": [
       "      debt_sales_ratio  wage_sensitivity_prod  init_markup  \\\n",
       "0             3.974297               0.712775     0.099379   \n",
       "1             4.388648               0.624767     0.069494   \n",
       "2             3.970944               0.929448     0.489306   \n",
       "3             0.972112               0.595822     0.229186   \n",
       "4             2.097049               0.085739     0.102101   \n",
       "...                ...                    ...          ...   \n",
       "1995          3.200478               0.471664     0.139773   \n",
       "1996          3.591290               0.208159     0.338511   \n",
       "1997          4.485911               0.554342     0.224410   \n",
       "1998          1.809927               0.981881     0.183219   \n",
       "1999          2.992259               0.862928     0.366707   \n",
       "\n",
       "      capital_firm_cap_out_ratio  min_unempl_emigration  \\\n",
       "0                       0.297524               0.040977   \n",
       "1                       0.246466               0.031566   \n",
       "2                       0.339357               0.051214   \n",
       "3                       0.399390               0.058033   \n",
       "4                       0.530068               0.059356   \n",
       "...                          ...                    ...   \n",
       "1995                    0.390861               0.037946   \n",
       "1996                    0.324545               0.050687   \n",
       "1997                    0.422127               0.071176   \n",
       "1998                    0.200401               0.037715   \n",
       "1999                    0.451228               0.039643   \n",
       "\n",
       "      migration_unempl_bounds_diff  deu_discount_factor  flood_timing  \\\n",
       "0                         0.136866             0.956540          33.0   \n",
       "1                         0.160825             0.857878          76.0   \n",
       "2                         0.166170             0.954534          34.0   \n",
       "3                         0.145984             0.827532          46.0   \n",
       "4                         0.146438             0.858569          72.0   \n",
       "...                            ...                  ...           ...   \n",
       "1995                      0.242404             0.825514          61.0   \n",
       "1996                      0.220237             0.821360          44.0   \n",
       "1997                      0.202716             0.821195          40.0   \n",
       "1998                      0.114086             0.970333          69.0   \n",
       "1999                      0.158670             0.945219          34.0   \n",
       "\n",
       "      scenario  policy model  \n",
       "0            0     NaN  CRAB  \n",
       "1            1     NaN  CRAB  \n",
       "2            2     NaN  CRAB  \n",
       "3            3     NaN  CRAB  \n",
       "4            4     NaN  CRAB  \n",
       "...        ...     ...   ...  \n",
       "1995      1995     NaN  CRAB  \n",
       "1996      1996     NaN  CRAB  \n",
       "1997      1997     NaN  CRAB  \n",
       "1998      1998     NaN  CRAB  \n",
       "1999      1999     NaN  CRAB  \n",
       "\n",
       "[2000 rows x 11 columns]"
      ]
     },
     "execution_count": 18,
     "metadata": {},
     "output_type": "execute_result"
    }
   ],
   "source": [
    "new_experiments = experiments[uncertainties].groupby('scenario').agg('mean').reset_index(drop=True)\n",
    "new_experiments['scenario'] = [i for i in range(len(new_experiments))]\n",
    "new_experiments['policy'] = np.nan\n",
    "new_experiments['model'] = 'CRAB'\n",
    "new_experiments"
   ]
  },
  {
   "cell_type": "markdown",
   "metadata": {},
   "source": [
    "### Save results to new file"
   ]
  },
  {
   "cell_type": "code",
   "execution_count": 19,
   "metadata": {},
   "outputs": [],
   "source": [
    "# Make sure new_experiments and new_outcomes' lists share the same length\n",
    "num_scens = len(new_experiments)\n",
    "for out in new_outcomes:\n",
    "    assert(len(new_outcomes[out]) == num_scens)"
   ]
  },
  {
   "cell_type": "code",
   "execution_count": 20,
   "metadata": {},
   "outputs": [
    {
     "data": {
      "text/plain": [
       "'../results/no_flood/2000_scen__AGGD_reps__0703__burned_in.tar.gz'"
      ]
     },
     "execution_count": 20,
     "metadata": {},
     "output_type": "execute_result"
    }
   ],
   "source": [
    "split_file_name = file_name.split('__')\n",
    "if len(split_file_name) == 2:\n",
    "    split_file_name = [split_file_name[0], 'AGGD_reps', split_file_name[1]]\n",
    "else:\n",
    "    split_file_name[1] = 'AGGD_reps'\n",
    "\n",
    "new_file_name = '__'.join(split_file_name)\n",
    "path+new_file_name+file_ext"
   ]
  },
  {
   "cell_type": "code",
   "execution_count": 21,
   "metadata": {},
   "outputs": [],
   "source": [
    "results = new_experiments, new_outcomes"
   ]
  },
  {
   "cell_type": "code",
   "execution_count": 22,
   "metadata": {},
   "outputs": [
    {
     "name": "stderr",
     "output_type": "stream",
     "text": [
      "c:\\Users\\Gabriel\\Documents\\Academic\\EPA\\2. Thesis\\Code\\CRAB_EM\\.venv\\Lib\\site-packages\\ema_workbench\\em_framework\\outcomes.py:540: UserWarning: still to be tested!!\n",
      "  warnings.warn(\"still to be tested!!\")\n"
     ]
    }
   ],
   "source": [
    "save_results(results, path + new_file_name + file_ext)"
   ]
  }
 ],
 "metadata": {
  "kernelspec": {
   "display_name": ".venv",
   "language": "python",
   "name": "python3"
  },
  "language_info": {
   "codemirror_mode": {
    "name": "ipython",
    "version": 3
   },
   "file_extension": ".py",
   "mimetype": "text/x-python",
   "name": "python",
   "nbconvert_exporter": "python",
   "pygments_lexer": "ipython3",
   "version": "3.12.2"
  }
 },
 "nbformat": 4,
 "nbformat_minor": 2
}
