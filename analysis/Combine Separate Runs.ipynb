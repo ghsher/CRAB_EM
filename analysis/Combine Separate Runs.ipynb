{
 "cells": [
  {
   "cell_type": "code",
   "execution_count": 15,
   "metadata": {},
   "outputs": [],
   "source": [
    "import pandas as pd\n",
    "\n",
    "from ema_workbench import load_results, save_results"
   ]
  },
  {
   "cell_type": "code",
   "execution_count": 16,
   "metadata": {},
   "outputs": [],
   "source": [
    "path = \"../results/\"\n",
    "subpath = \"combined_results/\"\n",
    "file_start = \"2000_scen__5_reps__\"\n",
    "file_end   = \"_startseed___0612\"\n",
    "file_ext = \".tar.gz\"\n",
    "name_diffs = [str(i*10) for i in range(8)]\n",
    "\n",
    "filenames = [file_start + n + file_end + file_ext for n in name_diffs]\n"
   ]
  },
  {
   "cell_type": "code",
   "execution_count": 17,
   "metadata": {},
   "outputs": [],
   "source": [
    "all_results = [load_results(path+subpath+fn) for fn in filenames]"
   ]
  },
  {
   "cell_type": "code",
   "execution_count": 18,
   "metadata": {},
   "outputs": [
    {
     "data": {
      "text/html": [
       "<div>\n",
       "<style scoped>\n",
       "    .dataframe tbody tr th:only-of-type {\n",
       "        vertical-align: middle;\n",
       "    }\n",
       "\n",
       "    .dataframe tbody tr th {\n",
       "        vertical-align: top;\n",
       "    }\n",
       "\n",
       "    .dataframe thead th {\n",
       "        text-align: right;\n",
       "    }\n",
       "</style>\n",
       "<table border=\"1\" class=\"dataframe\">\n",
       "  <thead>\n",
       "    <tr style=\"text-align: right;\">\n",
       "      <th></th>\n",
       "      <th>debt_sales_ratio</th>\n",
       "      <th>wage_sensitivity_prod</th>\n",
       "      <th>init_markup</th>\n",
       "      <th>capital_firm_cap_out_ratio</th>\n",
       "      <th>min_unempl_emigration</th>\n",
       "      <th>migration_unempl_bounds_diff</th>\n",
       "      <th>deu_discount_factor</th>\n",
       "      <th>flood_timing</th>\n",
       "      <th>scenario</th>\n",
       "      <th>policy</th>\n",
       "      <th>model</th>\n",
       "      <th>seed</th>\n",
       "    </tr>\n",
       "  </thead>\n",
       "  <tbody>\n",
       "    <tr>\n",
       "      <th>0</th>\n",
       "      <td>3.974297</td>\n",
       "      <td>0.712775</td>\n",
       "      <td>0.099379</td>\n",
       "      <td>0.297524</td>\n",
       "      <td>0.040977</td>\n",
       "      <td>0.136866</td>\n",
       "      <td>0.956540</td>\n",
       "      <td>33</td>\n",
       "      <td>0</td>\n",
       "      <td>NaN</td>\n",
       "      <td>CRAB</td>\n",
       "      <td>0</td>\n",
       "    </tr>\n",
       "    <tr>\n",
       "      <th>1</th>\n",
       "      <td>4.388648</td>\n",
       "      <td>0.624767</td>\n",
       "      <td>0.069494</td>\n",
       "      <td>0.246466</td>\n",
       "      <td>0.031566</td>\n",
       "      <td>0.160825</td>\n",
       "      <td>0.857878</td>\n",
       "      <td>76</td>\n",
       "      <td>1</td>\n",
       "      <td>NaN</td>\n",
       "      <td>CRAB</td>\n",
       "      <td>0</td>\n",
       "    </tr>\n",
       "    <tr>\n",
       "      <th>2</th>\n",
       "      <td>3.970944</td>\n",
       "      <td>0.929448</td>\n",
       "      <td>0.489306</td>\n",
       "      <td>0.339357</td>\n",
       "      <td>0.051214</td>\n",
       "      <td>0.166170</td>\n",
       "      <td>0.954534</td>\n",
       "      <td>34</td>\n",
       "      <td>2</td>\n",
       "      <td>NaN</td>\n",
       "      <td>CRAB</td>\n",
       "      <td>0</td>\n",
       "    </tr>\n",
       "  </tbody>\n",
       "</table>\n",
       "</div>"
      ],
      "text/plain": [
       "   debt_sales_ratio  wage_sensitivity_prod  init_markup  \\\n",
       "0          3.974297               0.712775     0.099379   \n",
       "1          4.388648               0.624767     0.069494   \n",
       "2          3.970944               0.929448     0.489306   \n",
       "\n",
       "   capital_firm_cap_out_ratio  min_unempl_emigration  \\\n",
       "0                    0.297524               0.040977   \n",
       "1                    0.246466               0.031566   \n",
       "2                    0.339357               0.051214   \n",
       "\n",
       "   migration_unempl_bounds_diff  deu_discount_factor  flood_timing  scenario  \\\n",
       "0                      0.136866             0.956540            33         0   \n",
       "1                      0.160825             0.857878            76         1   \n",
       "2                      0.166170             0.954534            34         2   \n",
       "\n",
       "  policy model  seed  \n",
       "0    NaN  CRAB     0  \n",
       "1    NaN  CRAB     0  \n",
       "2    NaN  CRAB     0  "
      ]
     },
     "execution_count": 18,
     "metadata": {},
     "output_type": "execute_result"
    }
   ],
   "source": [
    "# all_results[x][0] is an experiments dataframe\n",
    "all_results[0][0].head(3)"
   ]
  },
  {
   "cell_type": "code",
   "execution_count": 19,
   "metadata": {},
   "outputs": [
    {
     "name": "stdout",
     "output_type": "stream",
     "text": [
      "Have experiments dataframe with 80000 rows\n",
      "Expected 80000 rows\n"
     ]
    }
   ],
   "source": [
    "lens = [len(exp) for exp,out in all_results]\n",
    "total_len = sum(lens)\n",
    "\n",
    "experiments_list = [exp for exp,out in all_results]\n",
    "experiments = pd.concat(experiments_list)\n",
    "\n",
    "print(f\"Have experiments dataframe with {len(experiments)} rows\")\n",
    "print(f\"Expected {total_len} rows\")\n"
   ]
  },
  {
   "cell_type": "code",
   "execution_count": 20,
   "metadata": {},
   "outputs": [
    {
     "data": {
      "text/plain": [
       "seed\n",
       "0       2000\n",
       "1       2000\n",
       "2       2000\n",
       "3       2000\n",
       "4       2000\n",
       "10      2000\n",
       "11      2000\n",
       "12      2000\n",
       "13      2000\n",
       "14      2000\n",
       "20      2000\n",
       "21      2000\n",
       "22      2000\n",
       "23      2000\n",
       "24      2000\n",
       "30      2000\n",
       "31      2000\n",
       "32      2000\n",
       "33      2000\n",
       "34      2000\n",
       "40      2000\n",
       "41      2000\n",
       "42      2000\n",
       "43      2000\n",
       "44      2000\n",
       "50      2000\n",
       "51      2000\n",
       "52      2000\n",
       "53      2000\n",
       "54      2000\n",
       "60      2000\n",
       "61      2000\n",
       "62      2000\n",
       "63      2000\n",
       "64      2000\n",
       "70      2000\n",
       "71      2000\n",
       "72      2000\n",
       "73      2000\n",
       "74      2000\n",
       "Name: count, dtype: int64"
      ]
     },
     "execution_count": 20,
     "metadata": {},
     "output_type": "execute_result"
    }
   ],
   "source": [
    "experiments.value_counts(['seed']).sort_index()"
   ]
  },
  {
   "cell_type": "code",
   "execution_count": 21,
   "metadata": {},
   "outputs": [
    {
     "data": {
      "text/plain": [
       "array([[10000, 10000, 10000, ...,  8488,  8488,  8488],\n",
       "       [10000, 10000, 10000, ...,  7955,  7875,  7554],\n",
       "       [10000, 10000, 10000, ...,  6265,  6265,  6265],\n",
       "       ...,\n",
       "       [10000, 10000, 10000, ..., 10079, 10079, 10079],\n",
       "       [10000, 10000, 10000, ...,  9627,  9627,  9337],\n",
       "       [10000, 10000, 10000, ...,  6363,  6363,  6363]], dtype=int64)"
      ]
     },
     "execution_count": 21,
     "metadata": {},
     "output_type": "execute_result"
    }
   ],
   "source": [
    "# all_results[x][0] is an outcomes dictionary\n",
    "all_results[0][1]['Household Population']"
   ]
  },
  {
   "cell_type": "code",
   "execution_count": 22,
   "metadata": {},
   "outputs": [
    {
     "data": {
      "text/plain": [
       "['Household Population',\n",
       " 'Unemployment Rate',\n",
       " 'Gini Coefficient',\n",
       " 'Median Net Worth',\n",
       " 'Median House Value',\n",
       " 'Median Wage',\n",
       " 'Minimum Wage',\n",
       " 'Total Household Damages',\n",
       " 'Average Income-Weighted Damages',\n",
       " 'Firm Population',\n",
       " 'GDP',\n",
       " 'Total Firm Resources',\n",
       " 'Total Firm Debt',\n",
       " 'CapitalFirm Population',\n",
       " 'CapitalFirm Production Made',\n",
       " 'ConsumptionGoodFirm Population',\n",
       " 'ConsumptionGoodFirm Production Made',\n",
       " 'ServiceFirm Population',\n",
       " 'ServiceFirm Production Made']"
      ]
     },
     "execution_count": 22,
     "metadata": {},
     "output_type": "execute_result"
    }
   ],
   "source": [
    "[ooi for ooi in all_results[0][1]]"
   ]
  },
  {
   "cell_type": "code",
   "execution_count": 23,
   "metadata": {},
   "outputs": [],
   "source": [
    "outcomes = {ooi:[] for ooi in all_results[0][1]}\n",
    "for exp,out in all_results:\n",
    "    for ooi, vals in out.items():\n",
    "        outcomes[ooi] += list(vals)"
   ]
  },
  {
   "cell_type": "code",
   "execution_count": 29,
   "metadata": {},
   "outputs": [
    {
     "name": "stdout",
     "output_type": "stream",
     "text": [
      "Have keys in outcome: ['Household Population', 'Unemployment Rate', 'Gini Coefficient', 'Median Net Worth', 'Median House Value', 'Median Wage', 'Minimum Wage', 'Total Household Damages', 'Average Income-Weighted Damages', 'Firm Population', 'GDP', 'Total Firm Resources', 'Total Firm Debt', 'CapitalFirm Population', 'CapitalFirm Production Made', 'ConsumptionGoodFirm Population', 'ConsumptionGoodFirm Production Made', 'ServiceFirm Population', 'ServiceFirm Production Made']\n",
      "Have lengths in outcomes: [80000, 80000, 80000, 80000, 80000, 80000, 80000, 80000, 80000, 80000, 80000, 80000, 80000, 80000, 80000, 80000, 80000, 80000, 80000]\n"
     ]
    }
   ],
   "source": [
    "print(f\"Have keys in outcome: {[k for k in outcomes]}\")\n",
    "print(f\"Have lengths in outcomes: {[len(v) for k,v in outcomes.items()]}\")\n",
    "N_STEPS = None\n",
    "\n",
    "for key in outcomes:\n",
    "    if N_STEPS is None:\n",
    "        N_STEPS = len(outcomes[key][0])\n",
    "    else:\n",
    "        assert(len(outcomes[key][0]) == N_STEPS)"
   ]
  },
  {
   "cell_type": "code",
   "execution_count": 25,
   "metadata": {},
   "outputs": [],
   "source": [
    "results = experiments, outcomes"
   ]
  },
  {
   "cell_type": "code",
   "execution_count": 26,
   "metadata": {},
   "outputs": [],
   "source": [
    "# Adjust filename to reflect new number of replications\n",
    "file_start_parts = file_start.split('__')\n",
    "reps_per_file = int(file_start_parts[1].split('_')[0])\n",
    "total_reps = reps_per_file * len(name_diffs)\n",
    "file_start_parts[1] = f'{total_reps}_reps'\n",
    "new_file_start = '__'.join(file_start_parts)"
   ]
  },
  {
   "cell_type": "code",
   "execution_count": 27,
   "metadata": {},
   "outputs": [],
   "source": [
    "# Remove `startseed` from filename\n",
    "new_file_end = file_end.split('_')[-1]"
   ]
  },
  {
   "cell_type": "code",
   "execution_count": 28,
   "metadata": {},
   "outputs": [
    {
     "name": "stderr",
     "output_type": "stream",
     "text": [
      "c:\\Users\\Gabriel\\Documents\\Academic\\EPA\\2. Thesis\\Code\\CRAB_EM\\.venv\\Lib\\site-packages\\ema_workbench\\em_framework\\outcomes.py:540: UserWarning: still to be tested!!\n",
      "  warnings.warn(\"still to be tested!!\")\n"
     ]
    }
   ],
   "source": [
    "save_results(results, path + file_start + new_file_end + file_ext)"
   ]
  }
 ],
 "metadata": {
  "language_info": {
   "name": "python"
  }
 },
 "nbformat": 4,
 "nbformat_minor": 2
}
