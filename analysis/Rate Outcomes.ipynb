{
 "cells": [
  {
   "cell_type": "code",
   "execution_count": 13,
   "metadata": {},
   "outputs": [],
   "source": [
    "import numpy as np\n",
    "import pandas as pd\n",
    "\n",
    "from ema_workbench import load_results, save_results, TimeSeriesOutcome"
   ]
  },
  {
   "cell_type": "code",
   "execution_count": 14,
   "metadata": {},
   "outputs": [],
   "source": [
    "path = '../results/'\n",
    "file_name = '2000_scen__40_reps__0612'\n",
    "file_ext  = '.tar.gz'"
   ]
  },
  {
   "cell_type": "code",
   "execution_count": 15,
   "metadata": {},
   "outputs": [],
   "source": [
    "experiments, outcomes = load_results(path+file_name+file_ext)"
   ]
  },
  {
   "cell_type": "code",
   "execution_count": 16,
   "metadata": {},
   "outputs": [],
   "source": [
    "oois = ['Household Population', 'GDP', 'Gini Coefficient']"
   ]
  },
  {
   "cell_type": "code",
   "execution_count": 17,
   "metadata": {},
   "outputs": [],
   "source": [
    "rates = {ooi:[] for ooi in oois}\n",
    "for ooi in oois:\n",
    "    for run_out in outcomes[ooi]:\n",
    "        # run_out is a 120-item array containing the outcome of \n",
    "        #  interest as a time-series for a single run\n",
    "        rate_out = [0]\n",
    "        for t in range(1,len(run_out)):\n",
    "            rate = run_out[t] - run_out[t-1]\n",
    "            rate_out.append(rate)\n",
    "        \n",
    "        # Save back as a Numpy array\n",
    "        # rate_out = np.array(rate_out)\n",
    "        rates[ooi].append(rate_out)\n",
    "    \n",
    "    rates[ooi] = np.array(rates[ooi])\n",
    "\n",
    "    ema_outcome = TimeSeriesOutcome(f\"Δ({ooi})\")\n",
    "    outcomes[f\"Δ({ooi})\"] = rates[ooi]"
   ]
  },
  {
   "cell_type": "code",
   "execution_count": 20,
   "metadata": {},
   "outputs": [
    {
     "name": "stdout",
     "output_type": "stream",
     "text": [
      "['Household Population', 'Unemployment Rate', 'Gini Coefficient', 'Median Net Worth', 'Median House Value', 'Median Wage', 'Minimum Wage', 'Total Household Damages', 'Average Income-Weighted Damages', 'Firm Population', 'GDP', 'Total Firm Resources', 'Total Firm Debt', 'CapitalFirm Population', 'CapitalFirm Production Made', 'ConsumptionGoodFirm Population', 'ConsumptionGoodFirm Production Made', 'ServiceFirm Population', 'ServiceFirm Production Made', 'Δ(Household Population)', 'Δ(GDP)', 'Δ(Gini Coefficient)']\n"
     ]
    }
   ],
   "source": [
    "print([out for out in outcomes])"
   ]
  },
  {
   "cell_type": "code",
   "execution_count": 19,
   "metadata": {},
   "outputs": [
    {
     "name": "stderr",
     "output_type": "stream",
     "text": [
      "c:\\Users\\Gabriel\\Documents\\Academic\\EPA\\2. Thesis\\Code\\CRAB_EM\\.venv\\Lib\\site-packages\\ema_workbench\\em_framework\\outcomes.py:540: UserWarning: still to be tested!!\n",
      "  warnings.warn(\"still to be tested!!\")\n"
     ]
    }
   ],
   "source": [
    "results = experiments, outcomes\n",
    "save_results(results, path + file_name + '__with_rates' + file_ext)"
   ]
  }
 ],
 "metadata": {
  "language_info": {
   "name": "python"
  }
 },
 "nbformat": 4,
 "nbformat_minor": 2
}
