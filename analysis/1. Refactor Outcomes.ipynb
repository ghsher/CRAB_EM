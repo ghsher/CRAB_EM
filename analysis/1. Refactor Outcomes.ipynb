{
 "cells": [
  {
   "cell_type": "code",
   "execution_count": 1,
   "metadata": {},
   "outputs": [],
   "source": [
    "import numpy as np\n",
    "import pandas as pd\n",
    "\n",
    "from ema_workbench import load_results, save_results, TimeSeriesOutcome"
   ]
  },
  {
   "cell_type": "code",
   "execution_count": null,
   "metadata": {},
   "outputs": [],
   "source": [
    "no_flood = False # ADJUST HERE \n",
    "\n",
    "nfl = \"\"\n",
    "if no_flood:\n",
    "    nfl = \"no_flood/\""
   ]
  },
  {
   "cell_type": "code",
   "execution_count": 2,
   "metadata": {},
   "outputs": [],
   "source": [
    "path = f'../results/{nfl}/'\n",
    "file_name = '2000_scen__40_reps__0703' # ADJUST HERE\n",
    "file_ext  = '.tar.gz'"
   ]
  },
  {
   "cell_type": "code",
   "execution_count": 3,
   "metadata": {},
   "outputs": [],
   "source": [
    "experiments, outcomes = load_results(path+file_name+file_ext)"
   ]
  },
  {
   "cell_type": "code",
   "execution_count": 4,
   "metadata": {},
   "outputs": [],
   "source": [
    "# Set modes\n",
    "burn_in = True\n",
    "resample = False\n",
    "add_rates = False"
   ]
  },
  {
   "cell_type": "code",
   "execution_count": 5,
   "metadata": {},
   "outputs": [],
   "source": [
    "# Can use any number of the original OOIs. \n",
    "# This list essentially shrinks the output variables considered.\n",
    "oois = [\n",
    "    'Household Population',\n",
    "    'GDP',\n",
    "    'Gini Coefficient',\n",
    "    'Median Wage',\n",
    "] "
   ]
  },
  {
   "cell_type": "code",
   "execution_count": null,
   "metadata": {},
   "outputs": [],
   "source": [
    "# If you want to use all measured outcomes, uncomment the next line :\n",
    "# oois = [k for k in outcomes]"
   ]
  },
  {
   "cell_type": "markdown",
   "metadata": {},
   "source": [
    "### Burn-in\n",
    "\n",
    "Remove first 5 years as burn-in time (migration cannot occur)"
   ]
  },
  {
   "cell_type": "code",
   "execution_count": 6,
   "metadata": {},
   "outputs": [],
   "source": [
    "if burn_in:\n",
    "    for ooi in oois:\n",
    "        outcomes[ooi] = [run[20:] for run in outcomes[ooi]]"
   ]
  },
  {
   "cell_type": "code",
   "execution_count": 7,
   "metadata": {},
   "outputs": [
    {
     "data": {
      "text/plain": [
       "100"
      ]
     },
     "execution_count": 7,
     "metadata": {},
     "output_type": "execute_result"
    }
   ],
   "source": [
    "len(outcomes[oois[0]][0])"
   ]
  },
  {
   "cell_type": "markdown",
   "metadata": {},
   "source": [
    "### Resample\n",
    "Collect a sample each year, instead of each quarter"
   ]
  },
  {
   "cell_type": "code",
   "execution_count": 8,
   "metadata": {},
   "outputs": [],
   "source": [
    "if resample:\n",
    "    for ooi in oois:\n",
    "        outcomes[ooi] = [run[::4] for run in outcomes[ooi]]"
   ]
  },
  {
   "cell_type": "code",
   "execution_count": 9,
   "metadata": {},
   "outputs": [
    {
     "data": {
      "text/plain": [
       "100"
      ]
     },
     "execution_count": 9,
     "metadata": {},
     "output_type": "execute_result"
    }
   ],
   "source": [
    "len(outcomes[oois[0]][0])"
   ]
  },
  {
   "cell_type": "markdown",
   "metadata": {},
   "source": [
    "### Add rates\n",
    "\n",
    "Add growth rates as outcomes of their own"
   ]
  },
  {
   "cell_type": "code",
   "execution_count": 10,
   "metadata": {},
   "outputs": [],
   "source": [
    "if add_rates:\n",
    "    rates = {ooi:[] for ooi in oois}\n",
    "    for ooi in oois:\n",
    "        for run in outcomes[ooi]:\n",
    "            rate_run = [0]\n",
    "            for t in range(1,len(run)):\n",
    "                rate_run.append(run[t] - run[t-1])\n",
    "            \n",
    "            # Save back as a Numpy array\n",
    "            # rate_out = np.array(rate_out)\n",
    "            rates[ooi].append(rate_run)\n",
    "        \n",
    "        rates[ooi] = np.array(rates[ooi])\n",
    "\n",
    "        ema_outcome = TimeSeriesOutcome(f\"Change in {ooi}\")\n",
    "        outcomes[f\"Change in {ooi}\"] = rates[ooi]"
   ]
  },
  {
   "cell_type": "code",
   "execution_count": 12,
   "metadata": {},
   "outputs": [],
   "source": [
    "if add_rates:\n",
    "    print(len(outcomes[f'Change in {oois[0]}'][0]))"
   ]
  },
  {
   "cell_type": "code",
   "execution_count": 13,
   "metadata": {},
   "outputs": [
    {
     "name": "stderr",
     "output_type": "stream",
     "text": [
      "c:\\Users\\Gabriel\\Documents\\Academic\\EPA\\2. Thesis\\Code\\CRAB_EM\\.venv\\Lib\\site-packages\\ema_workbench\\em_framework\\outcomes.py:540: UserWarning: still to be tested!!\n",
      "  warnings.warn(\"still to be tested!!\")\n"
     ]
    }
   ],
   "source": [
    "results = experiments, outcomes\n",
    "\n",
    "fn = path + file_name\n",
    "if burn_in:\n",
    "    fn += '__burned_in'\n",
    "if resample:\n",
    "    fn += '__resampled'\n",
    "if add_rates:\n",
    "    fn += '__with_rates'\n",
    "    \n",
    "save_results(results, fn + file_ext)"
   ]
  }
 ],
 "metadata": {
  "kernelspec": {
   "display_name": ".venv",
   "language": "python",
   "name": "python3"
  },
  "language_info": {
   "codemirror_mode": {
    "name": "ipython",
    "version": 3
   },
   "file_extension": ".py",
   "mimetype": "text/x-python",
   "name": "python",
   "nbconvert_exporter": "python",
   "pygments_lexer": "ipython3",
   "version": "3.12.2"
  }
 },
 "nbformat": 4,
 "nbformat_minor": 2
}
