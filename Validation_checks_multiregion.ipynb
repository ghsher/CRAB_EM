{
 "cells": [
  {
   "cell_type": "code",
   "execution_count": null,
   "id": "5fde5b9e-a13d-4868-a237-b61b1ccdf29c",
   "metadata": {},
   "outputs": [],
   "source": [
    "import os\n",
    "import pandas as pd\n",
    "import numpy as np\n",
    "import matplotlib.pyplot as plt"
   ]
  },
  {
   "cell_type": "markdown",
   "id": "abfb3e65-c958-46bc-a14d-837396cafc37",
   "metadata": {},
   "source": [
    "### PLOTTING FUNCTIONS"
   ]
  },
  {
   "cell_type": "code",
   "execution_count": null,
   "id": "9fb7500a-427f-42f3-be3b-0d83ad8cd5b8",
   "metadata": {},
   "outputs": [],
   "source": [
    "# Function to plot specified variable per run\n",
    "def plot_all_runs(df_list, var, color=None):\n",
    "    label = var\n",
    "    for df in df_list:\n",
    "        df[var].plot(label=label, color=color) if color else df[var].plot(label=label)\n",
    "        label=\"_nolegend_\"  # This avoids duplicates in plot legend\n",
    "    plt.xlabel(\"Year\")\n",
    "    plt.ylabel(var)\n",
    "    plt.legend()\n",
    "\n",
    "def plot_difference(df_list, var1, var2):\n",
    "    label = str(var1) + \" - \" + str(var2)\n",
    "    for df in df_list:\n",
    "        diff = df[var1] - df[var2]\n",
    "        diff.plot(label=label)\n",
    "        label=\"_nolegend_\"  # This avoids duplicates in plot legend\n",
    "    plt.xlabel(\"Time\")\n",
    "    plt.ylabel(\"Amount\")\n",
    "    plt.legend()\n",
    "\n",
    "def plot_avg_per_type(df_list, agent_type, region, var, color=None, label=None):\n",
    "    if not label:\n",
    "        label = agent_type\n",
    "    for df in df_list:\n",
    "        df = df[(df[\"Type\"] == agent_type) & (df[\"Region\"] == region)]\n",
    "        mean = df.groupby([\"Step\"])[var].mean()\n",
    "        std = df.groupby([\"Step\"])[var].std()\n",
    "        plt.plot(mean, label=label, color=color)\n",
    "        plt.fill_between(sorted(list(set(df[\"Step\"].values))), mean, mean - std, color=color, alpha=0.2)\n",
    "        plt.fill_between(sorted(list(set(df[\"Step\"].values))), mean + std, mean, color=color, alpha=0.2)\n",
    "        label=\"_nolegend_\"  # This avoids duplicates in plot legend\n",
    "    plt.xlabel(\"Timestep\")\n",
    "    plt.ylabel(var)\n",
    "    plt.legend()\n",
    "\n",
    "def plot_total_per_type(df_list, agent_type, region, var, color=None, label=None):\n",
    "    if not label:\n",
    "        label = agent_type\n",
    "    for df in df_list:\n",
    "        df = df[(df[\"Type\"] == agent_type) & (df[\"Region\"] == region)]\n",
    "        df.groupby([\"Step\"])[var].sum().plot(label=label)\n",
    "        label=\"_nolegend_\"  # This avoids duplicates in plot legend\n",
    "    plt.xlabel(\"Timestep\")\n",
    "    plt.ylabel(var)\n",
    "    plt.legend()"
   ]
  },
  {
   "cell_type": "markdown",
   "id": "5bc188c6-c7d2-4ea6-bbd1-9224fba2790d",
   "metadata": {},
   "source": [
    "### READ DATA"
   ]
  },
  {
   "cell_type": "markdown",
   "id": "5032b639-bed0-40bf-b333-80eab99ab640",
   "metadata": {},
   "source": [
    "#### Model variables"
   ]
  },
  {
   "cell_type": "code",
   "execution_count": null,
   "id": "eb046236-24e1-4ff2-8b67-deaf6f0e7d5e",
   "metadata": {
    "scrolled": true
   },
   "outputs": [],
   "source": [
    "# Read all model variables to list\n",
    "model_vars_df_list = []\n",
    "for file in os.listdir(\"results/\"):\n",
    "    if file.startswith(\"model\"):\n",
    "        df = pd.read_csv(\"results/\" + file)\n",
    "        model_vars_df_list.append(df)\n",
    "\n",
    "# Save timesteps where floods occur\n",
    "n_steps = len(model_vars_df_list[0])\n",
    "flood_timesteps = np.array(model_vars_df_list[0].index[model_vars_df_list[0][\"Flood\"] == True])\n",
    "flood_timesteps -= 1\n",
    "print(\"FLOODS IMPLEMENTED AT TIMESTEPS\", flood_timesteps)\n",
    "\n",
    "# Show first dataframe\n",
    "model_vars_df_list[0]"
   ]
  },
  {
   "cell_type": "markdown",
   "id": "f1a0ceb6-1797-44f5-a5f5-85a9d46d0255",
   "metadata": {},
   "source": [
    "#### Agent variables"
   ]
  },
  {
   "cell_type": "code",
   "execution_count": null,
   "id": "4d29b0d6-ce55-489d-b31d-34e6c805dcca",
   "metadata": {},
   "outputs": [],
   "source": [
    "agent_vars_df_list = []\n",
    "for file in os.listdir(\"results/\"):\n",
    "    if file.startswith(\"agent\"):\n",
    "        print(file)\n",
    "        df = pd.read_csv(\"results/\" + file)\n",
    "        agent_vars_df_list.append(df)\n",
    "\n",
    "# Split firms per type\n",
    "cap_firms = agent_vars_df_list[0][agent_vars_df_list[0][\"Type\"] == \"<class 'CRAB_agents.CapitalFirm'>\"].copy()\n",
    "cons_firms = agent_vars_df_list[0][agent_vars_df_list[0][\"Type\"] == \"<class 'CRAB_agents.ConsumptionGoodFirm'>\"].copy()\n",
    "serv_firms = agent_vars_df_list[0][agent_vars_df_list[0][\"Type\"] == \"<class 'CRAB_agents.ServiceFirm'>\"].copy()\n",
    "# Split dataframe into firms created at beginning and during runtime\n",
    "old_firms = list(set(agent_vars_df_list[0][agent_vars_df_list[0][\"AgentID\"] < 10000][\"AgentID\"].values))\n",
    "new_firms = list(set(agent_vars_df_list[0][agent_vars_df_list[0][\"AgentID\"] > 10000][\"AgentID\"].values))\n",
    "\n",
    "agent_vars_df_list[0]"
   ]
  },
  {
   "cell_type": "markdown",
   "id": "0cc191c5-eee8-4653-835d-30890396da4f",
   "metadata": {},
   "source": [
    "### SANITY CHECKS"
   ]
  },
  {
   "cell_type": "markdown",
   "id": "da8ebc2a-7f8a-4109-a953-0ba5826e6223",
   "metadata": {},
   "source": [
    "#### HOUSEHOLDS"
   ]
  },
  {
   "cell_type": "markdown",
   "id": "75b180a3-ba7b-4527-a91d-ec81cb1a6ecc",
   "metadata": {},
   "source": [
    "##### HH CONSUMPTION"
   ]
  },
  {
   "cell_type": "code",
   "execution_count": null,
   "id": "1fcdd0ef-b939-4a5a-b396-d7ecaf166130",
   "metadata": {},
   "outputs": [],
   "source": [
    "# Plot household consumption\n",
    "for r in set(agent_vars_df_list[0][\"Region\"].values):\n",
    "    plot_total_per_type(agent_vars_df_list, agent_type=\"<class 'CRAB_agents.Household'>\", region=r, var=\"Consumption\", label=f\"Region {r}\")\n",
    "plt.vlines(flood_timesteps, ymin=0, ymax=12000, color=\"grey\", linestyle=\"--\", linewidth=0.7)\n",
    "plt.show()"
   ]
  },
  {
   "cell_type": "markdown",
   "id": "5f72540e-2a1e-4f38-ae26-b886432427ae",
   "metadata": {
    "jp-MarkdownHeadingCollapsed": true
   },
   "source": [
    "##### HH Net worth"
   ]
  },
  {
   "cell_type": "code",
   "execution_count": null,
   "id": "48e84cfb-143a-49eb-b15f-aa24a147d078",
   "metadata": {},
   "outputs": [],
   "source": [
    "for r in set(agent_vars_df_list[0][\"Region\"].values):\n",
    "    plot_avg_per_type(agent_vars_df_list, agent_type=\"<class 'CRAB_agents.Household'>\", region=r, var=\"Net worth\", label=f\"Region {r}\")\n",
    "plt.vlines(flood_timesteps, ymin=0, ymax=12000, color=\"grey\", linestyle=\"--\", linewidth=0.7)\n",
    "plt.show()"
   ]
  },
  {
   "cell_type": "markdown",
   "id": "5efbaa38-7cdb-4cb6-8bf7-178d0950ade4",
   "metadata": {},
   "source": [
    "### FIRMS"
   ]
  },
  {
   "cell_type": "markdown",
   "id": "963392f2-038a-44fe-a9cb-0d89c4429ebd",
   "metadata": {},
   "source": [
    "##### Sectoral demand"
   ]
  },
  {
   "cell_type": "code",
   "execution_count": null,
   "id": "5437ce9a-c562-443c-92bf-20f948c33cbf",
   "metadata": {
    "scrolled": true
   },
   "outputs": [],
   "source": [
    "# Plot average demand per sector\n",
    "for r in set(agent_vars_df_list[0][\"Region\"].values):\n",
    "    plot_avg_per_type(agent_vars_df_list, agent_type=\"<class 'CRAB_agents.CapitalFirm'>\", region=r, var=\"Real demand\", color=\"tab:blue\")\n",
    "    plot_avg_per_type(agent_vars_df_list, agent_type=\"<class 'CRAB_agents.ConsumptionGoodFirm'>\", region=r, var=\"Real demand\", color=\"tab:orange\")\n",
    "    plot_avg_per_type(agent_vars_df_list, agent_type=\"<class 'CRAB_agents.ServiceFirm'>\", region=r, var=\"Real demand\", color=\"tab:green\")\n",
    "    plt.vlines(flood_timesteps, ymin=0, ymax=50, color=\"grey\", linestyle=\"--\", linewidth=0.7)\n",
    "    plt.title(f\"Region {r}\")\n",
    "    plt.show()"
   ]
  },
  {
   "cell_type": "markdown",
   "id": "e3ffc6f7-56c8-44f0-a9bd-7285bb607cb9",
   "metadata": {},
   "source": [
    "##### Production made vs. Demand vs. Inventories"
   ]
  },
  {
   "cell_type": "code",
   "execution_count": null,
   "id": "2211c240-4192-4cee-932b-0016fb9d17e5",
   "metadata": {},
   "outputs": [],
   "source": [
    "for r in set(agent_vars_df_list[0][\"Region\"].values):\n",
    "    # Plot average demand per sector\n",
    "    plot_total_per_type(agent_vars_df_list, agent_type=\"<class 'CRAB_agents.CapitalFirm'>\", region=r, var=\"Real demand\", color=\"tab:blue\", label=\"Real demand\")\n",
    "    plot_total_per_type(agent_vars_df_list, agent_type=\"<class 'CRAB_agents.CapitalFirm'>\", region=r, var=\"Demand filled\", color=\"tab:orange\", label=\"Demand filled\")\n",
    "    plot_total_per_type(agent_vars_df_list, agent_type=\"<class 'CRAB_agents.CapitalFirm'>\", region=r, var=\"Production made\", color=\"tab:red\", label=\"Production made\")\n",
    "    plot_total_per_type(agent_vars_df_list, agent_type=\"<class 'CRAB_agents.CapitalFirm'>\", region=r, var=\"Inventories\", color=\"tab:green\", label=\"Inventories\")\n",
    "    plt.ylabel(\"Amount\")\n",
    "    plt.title(f\"Region {r}, Capital firms\")\n",
    "    plt.show()\n",
    "    \n",
    "    # Plot average demand per sector\n",
    "    plot_total_per_type(agent_vars_df_list, agent_type=\"<class 'CRAB_agents.ConsumptionGoodFirm'>\", region=r, var=\"Real demand\", color=\"tab:blue\", label=\"Real demand\")\n",
    "    plot_total_per_type(agent_vars_df_list, agent_type=\"<class 'CRAB_agents.ConsumptionGoodFirm'>\", region=r, var=\"Demand filled\", color=\"tab:orange\", label=\"Demand filled\")\n",
    "    plot_total_per_type(agent_vars_df_list, agent_type=\"<class 'CRAB_agents.ConsumptionGoodFirm'>\", region=r, var=\"Production made\", color=\"tab:red\", label=\"Production made\")\n",
    "    plot_total_per_type(agent_vars_df_list, agent_type=\"<class 'CRAB_agents.ConsumptionGoodFirm'>\", region=r, var=\"Inventories\", color=\"tab:green\", label=\"Inventories\")\n",
    "    plt.ylabel(\"Amount\")\n",
    "    plt.title(f\"Region {r}, Consumption Good firms\")\n",
    "    plt.show()\n",
    "    \n",
    "    # Plot average demand per sector\n",
    "    plot_total_per_type(agent_vars_df_list, agent_type=\"<class 'CRAB_agents.ServiceFirm'>\", region=r, var=\"Real demand\", color=\"tab:blue\", label=\"Real demand\")\n",
    "    plot_total_per_type(agent_vars_df_list, agent_type=\"<class 'CRAB_agents.ServiceFirm'>\", region=r, var=\"Demand filled\", color=\"tab:orange\", label=\"Demand filled\")\n",
    "    plot_total_per_type(agent_vars_df_list, agent_type=\"<class 'CRAB_agents.ServiceFirm'>\", region=r, var=\"Production made\", color=\"tab:red\", label=\"Production made\")\n",
    "    plot_total_per_type(agent_vars_df_list, agent_type=\"<class 'CRAB_agents.ServiceFirm'>\", region=r, var=\"Inventories\", color=\"tab:green\", label=\"Inventories\")\n",
    "    plt.ylabel(\"Amount\")\n",
    "    plt.title(f\"Region {r}, Consumption Service firms\")\n",
    "    plt.show()"
   ]
  },
  {
   "cell_type": "code",
   "execution_count": null,
   "id": "4401f490-cfa4-42da-951b-1b894a065b15",
   "metadata": {},
   "outputs": [],
   "source": [
    "# Plot average demand per sector\n",
    "plot_total_per_type(agent_vars_df_list, agent_type=\"<class 'CRAB_agents.CapitalFirm'>\", var=\"Demand unfilled\", color=\"tab:blue\")\n",
    "# plot_total_per_type(agent_vars_df_list, agent_type=\"<class 'CRAB_agents.ConsumptionGoodFirm'>\", var=\"Demand unfilled\", color=\"tab:orange\")\n",
    "# plot_total_per_type(agent_vars_df_list, agent_type=\"<class 'CRAB_agents.ServiceFirm'>\", var=\"Demand unfilled\", color=\"tab:green\")\n",
    "plt.vlines(flood_timesteps, ymin=0, ymax=50, color=\"grey\", linestyle=\"--\", linewidth=0.7)\n",
    "# plt.xlim(0, 50)\n",
    "plt.show()"
   ]
  },
  {
   "cell_type": "code",
   "execution_count": null,
   "id": "2af59077-1bdb-4070-884c-c7e35f697b4e",
   "metadata": {},
   "outputs": [],
   "source": [
    "plot_avg_per_type(agent_vars_df_list, agent_type=\"<class 'CRAB_agents.CapitalFirm'>\", var=\"Inventories\", color=\"tab:blue\")\n",
    "plot_avg_per_type(agent_vars_df_list, agent_type=\"<class 'CRAB_agents.ConsumptionGoodFirm'>\", var=\"Inventories\", color=\"tab:orange\")\n",
    "plot_avg_per_type(agent_vars_df_list, agent_type=\"<class 'CRAB_agents.ServiceFirm'>\", var=\"Inventories\", color=\"tab:green\")\n",
    "plt.vlines(flood_timesteps, ymin=-1, ymax=15, color=\"grey\", linestyle=\"--\", linewidth=0.7)\n",
    "plt.show()"
   ]
  },
  {
   "cell_type": "code",
   "execution_count": null,
   "id": "144f0f8e-ce2a-49ea-84ae-9a0bbcf3a651",
   "metadata": {},
   "outputs": [],
   "source": [
    "# Plot inventory level as fraction of demand\n",
    "for i in range(len(agent_vars_df_list)):\n",
    "    df = agent_vars_df_list[i]\n",
    "    df[\"Inv/demand\"] = df[\"Inventories\"]/df[\"Real demand\"]\n",
    "    df = df.replace({np.inf: np.nan})\n",
    "    agent_vars_df_list[i] = df\n",
    "plot_avg_per_type(agent_vars_df_list, agent_type=\"<class 'CRAB_agents.CapitalFirm'>\", var=\"Inv/demand\", color=\"tab:blue\")\n",
    "plot_avg_per_type(agent_vars_df_list, agent_type=\"<class 'CRAB_agents.ConsumptionGoodFirm'>\", var=\"Inv/demand\", color=\"tab:orange\")\n",
    "plot_avg_per_type(agent_vars_df_list, agent_type=\"<class 'CRAB_agents.ServiceFirm'>\", var=\"Inv/demand\", color=\"tab:green\")\n",
    "plt.vlines(flood_timesteps, ymin=-1, ymax=20, color=\"grey\", linestyle=\"--\", linewidth=0.7)\n",
    "plt.show()"
   ]
  },
  {
   "cell_type": "markdown",
   "id": "bc8c44e2-8e97-43c1-8d01-2e2e29e4f6e3",
   "metadata": {},
   "source": [
    "#### LABOR"
   ]
  },
  {
   "cell_type": "markdown",
   "id": "7a659b20-10d2-41f3-88b1-f860f21195cd",
   "metadata": {},
   "source": [
    "##### SIZE"
   ]
  },
  {
   "cell_type": "code",
   "execution_count": null,
   "id": "e106e36e-94a2-48cb-85af-09fecfde8f73",
   "metadata": {},
   "outputs": [],
   "source": [
    "# Plot size (n employers) for all firms (average)\n",
    "for r in set(agent_vars_df_list[0][\"Region\"].values):\n",
    "    plot_avg_per_type(agent_vars_df_list, agent_type=\"<class 'CRAB_agents.CapitalFirm'>\", region=r, var=\"Size\", color=\"tab:blue\")\n",
    "    plot_avg_per_type(agent_vars_df_list, agent_type=\"<class 'CRAB_agents.ConsumptionGoodFirm'>\", region=r, var=\"Size\", color=\"tab:orange\")\n",
    "    plot_avg_per_type(agent_vars_df_list, agent_type=\"<class 'CRAB_agents.ServiceFirm'>\", region=r, var=\"Size\", color=\"tab:green\")\n",
    "    plt.hlines(y=0, xmin=0, xmax=max(agent_vars_df_list[0][\"Step\"]), color=\"grey\", linestyle=\"--\", linewidth=1)\n",
    "    plt.title(f\"Region {r}\")\n",
    "    plt.show()"
   ]
  },
  {
   "cell_type": "code",
   "execution_count": null,
   "id": "033f974d-49da-4a88-b132-32b8c8406831",
   "metadata": {},
   "outputs": [],
   "source": [
    "# Plot average labor demand per sector\n",
    "plot_avg_per_type(agent_vars_df_list, agent_type=\"<class 'CRAB_agents.CapitalFirm'>\", var=\"Labor demand\", color=\"tab:blue\")\n",
    "plot_avg_per_type(agent_vars_df_list, agent_type=\"<class 'CRAB_agents.ConsumptionGoodFirm'>\", var=\"Labor demand\", color=\"tab:orange\")\n",
    "plot_avg_per_type(agent_vars_df_list, agent_type=\"<class 'CRAB_agents.ServiceFirm'>\", var=\"Labor demand\", color=\"tab:green\")\n",
    "plt.show()"
   ]
  },
  {
   "cell_type": "markdown",
   "id": "a7d2e96a-7286-411f-ab00-f7d241e36489",
   "metadata": {},
   "source": [
    "#### SALES"
   ]
  },
  {
   "cell_type": "code",
   "execution_count": null,
   "id": "ad216504-fc22-4b19-9768-d1d23a16236c",
   "metadata": {
    "scrolled": true
   },
   "outputs": [],
   "source": [
    "# Plot average sales per sector\n",
    "for r in set(agent_vars_df_list[0][\"Region\"].values):\n",
    "    plot_avg_per_type(agent_vars_df_list, agent_type=\"<class 'CRAB_agents.CapitalFirm'>\", region=r, var=\"Sales\", color=\"tab:blue\")\n",
    "    plot_avg_per_type(agent_vars_df_list, agent_type=\"<class 'CRAB_agents.ConsumptionGoodFirm'>\", region=r, var=\"Sales\", color=\"tab:orange\")\n",
    "    plot_avg_per_type(agent_vars_df_list, agent_type=\"<class 'CRAB_agents.ServiceFirm'>\", region=r, var=\"Sales\", color=\"tab:green\")\n",
    "    plt.title(f\"Region {r}\")\n",
    "    plt.show()"
   ]
  },
  {
   "cell_type": "markdown",
   "id": "e9e0823a-9a00-4014-8ab4-ae3a4cbafb36",
   "metadata": {
    "collapsed": true,
    "jupyter": {
     "outputs_hidden": true
    }
   },
   "source": [
    "#### PRICES"
   ]
  },
  {
   "cell_type": "code",
   "execution_count": null,
   "id": "588598f5-282d-40c9-a6ce-419d82c416a7",
   "metadata": {
    "scrolled": true
   },
   "outputs": [],
   "source": [
    "# Plot average prices per sector\n",
    "for r in set(agent_vars_df_list[0][\"Region\"].values):\n",
    "    plot_avg_per_type(agent_vars_df_list, agent_type=\"<class 'CRAB_agents.CapitalFirm'>\", region=r, var=\"Price\", color=\"tab:blue\")\n",
    "    plot_avg_per_type(agent_vars_df_list, agent_type=\"<class 'CRAB_agents.ConsumptionGoodFirm'>\", region=r, var=\"Price\", color=\"tab:orange\")\n",
    "    plot_avg_per_type(agent_vars_df_list, agent_type=\"<class 'CRAB_agents.ServiceFirm'>\", region=r, var=\"Price\", color=\"tab:green\")\n",
    "    plt.title(f\"Region {r}\")\n",
    "    plt.show()"
   ]
  },
  {
   "cell_type": "markdown",
   "id": "05efd300-3f05-4508-920c-5a3e4de06863",
   "metadata": {
    "jp-MarkdownHeadingCollapsed": true
   },
   "source": [
    "##### MARKUP"
   ]
  },
  {
   "cell_type": "code",
   "execution_count": null,
   "id": "c71fc79f-19cc-4af4-820d-7faec672780a",
   "metadata": {},
   "outputs": [],
   "source": [
    "# Plot average sales per sector\n",
    "plot_avg_per_type(agent_vars_df_list, agent_type=\"<class 'CRAB_agents.CapitalFirm'>\", var=\"Markup\", color=\"tab:blue\")\n",
    "plot_avg_per_type(agent_vars_df_list, agent_type=\"<class 'CRAB_agents.ConsumptionGoodFirm'>\", var=\"Markup\", color=\"tab:orange\")\n",
    "plot_avg_per_type(agent_vars_df_list, agent_type=\"<class 'CRAB_agents.ServiceFirm'>\", var=\"Markup\", color=\"tab:green\")\n",
    "plt.show()"
   ]
  },
  {
   "cell_type": "markdown",
   "id": "db8f1834-6d62-4f61-81a2-106429f1cad0",
   "metadata": {},
   "source": [
    "#### NET WORTH"
   ]
  },
  {
   "cell_type": "code",
   "execution_count": null,
   "id": "3c057647-9ae4-42b6-8e2f-b34c37d6be82",
   "metadata": {
    "scrolled": true
   },
   "outputs": [],
   "source": [
    "# Plot average net worth per sector\n",
    "for r in set(agent_vars_df_list[0][\"Region\"].values):\n",
    "    plot_avg_per_type(agent_vars_df_list, agent_type=\"<class 'CRAB_agents.CapitalFirm'>\", region=r, var=\"Net worth\", color=\"tab:blue\")\n",
    "    plot_avg_per_type(agent_vars_df_list, agent_type=\"<class 'CRAB_agents.ConsumptionGoodFirm'>\", region=r, var=\"Net worth\", color=\"tab:orange\")\n",
    "    plot_avg_per_type(agent_vars_df_list, agent_type=\"<class 'CRAB_agents.ServiceFirm'>\", region=r, var=\"Net worth\", color=\"tab:green\")\n",
    "    plt.hlines(y=0, xmin=0, xmax=max(agent_vars_df_list[0][\"Step\"]), color=\"grey\", linestyle=\"--\", linewidth=1)\n",
    "    plt.title(f\"Region {r}\")\n",
    "    plt.show()"
   ]
  },
  {
   "cell_type": "markdown",
   "id": "f9a1e802-64a7-47e1-8d30-b952dcd26db1",
   "metadata": {},
   "source": [
    "#### PRODUCTIVITY and WAGES"
   ]
  },
  {
   "cell_type": "markdown",
   "id": "7febb4c4-a855-4153-8eb5-d1b4e257bd1a",
   "metadata": {},
   "source": [
    "##### Productivity : wage ratio"
   ]
  },
  {
   "cell_type": "code",
   "execution_count": null,
   "id": "2e491865-b1a2-4f3f-b8b2-841d62a96ed7",
   "metadata": {
    "scrolled": true
   },
   "outputs": [],
   "source": [
    "# Plot average ratio productivity : wage per sector\n",
    "for df in agent_vars_df_list:\n",
    "    df[\"Prod/wage\"] = df[\"Prod\"]/df[\"Wage\"]\n",
    "for r in set(agent_vars_df_list[0][\"Region\"].values):\n",
    "    plot_avg_per_type(agent_vars_df_list, agent_type=\"<class 'CRAB_agents.CapitalFirm'>\", region=r, var=\"Prod/wage\", color=\"tab:blue\")\n",
    "    plot_avg_per_type(agent_vars_df_list, agent_type=\"<class 'CRAB_agents.ConsumptionGoodFirm'>\", region=r, var=\"Prod/wage\", color=\"tab:orange\")\n",
    "    plot_avg_per_type(agent_vars_df_list, agent_type=\"<class 'CRAB_agents.ServiceFirm'>\", region=r, var=\"Prod/wage\", color=\"tab:green\")\n",
    "    plt.hlines(y=1, xmin=0, xmax=max(df[\"Step\"]), color=\"grey\", linestyle=\"--\", linewidth=1)\n",
    "    plt.title(f\"Region {r}\")\n",
    "    plt.show()"
   ]
  },
  {
   "cell_type": "markdown",
   "id": "4409e7eb-fde2-43f8-a53e-f8edbed5cbac",
   "metadata": {},
   "source": [
    "##### Productivity"
   ]
  },
  {
   "cell_type": "code",
   "execution_count": null,
   "id": "a32f4a58-fed3-401c-9c62-b00b1513ad7a",
   "metadata": {
    "scrolled": true
   },
   "outputs": [],
   "source": [
    "# Plot average productivity per sector\n",
    "for r in set(agent_vars_df_list[0][\"Region\"].values):\n",
    "    plot_avg_per_type(agent_vars_df_list, agent_type=\"<class 'CRAB_agents.CapitalFirm'>\", region=r, var=\"Machine prod\", color=\"tab:red\")\n",
    "    plot_avg_per_type(agent_vars_df_list, agent_type=\"<class 'CRAB_agents.CapitalFirm'>\", region=r, var=\"Prod\", color=\"tab:blue\")\n",
    "    plot_avg_per_type(agent_vars_df_list, agent_type=\"<class 'CRAB_agents.ConsumptionGoodFirm'>\", region=r, var=\"Prod\", color=\"tab:orange\")\n",
    "    plot_avg_per_type(agent_vars_df_list, agent_type=\"<class 'CRAB_agents.ServiceFirm'>\", region=r, var=\"Prod\", color=\"tab:green\")\n",
    "    plt.hlines(y=1, xmin=0, xmax=max(agent_vars_df_list[0][\"Step\"]), color=\"grey\", linestyle=\"--\", linewidth=1)\n",
    "    plt.title(f\"Region {r}\")\n",
    "    plt.show()"
   ]
  },
  {
   "cell_type": "markdown",
   "id": "d1699bf9-0360-49c9-818e-41b0043f4648",
   "metadata": {},
   "source": [
    "##### Wages"
   ]
  },
  {
   "cell_type": "code",
   "execution_count": null,
   "id": "69879f24-5d7d-4aa6-aff7-952beaa1f62c",
   "metadata": {
    "scrolled": true
   },
   "outputs": [],
   "source": [
    "# Plot wages\n",
    "for r in set(agent_vars_df_list[0][\"Region\"].values):\n",
    "    plot_avg_per_type(agent_vars_df_list, agent_type=\"<class 'CRAB_agents.CapitalFirm'>\", region=r, var=\"Wage\", color=\"tab:blue\")\n",
    "    plot_avg_per_type(agent_vars_df_list, agent_type=\"<class 'CRAB_agents.ConsumptionGoodFirm'>\", region=r, var=\"Wage\", color=\"tab:orange\")\n",
    "    plot_avg_per_type(agent_vars_df_list, agent_type=\"<class 'CRAB_agents.ServiceFirm'>\", region=r, var=\"Wage\", color=\"tab:green\")\n",
    "    plt.hlines(y=1, xmin=0, xmax=max(agent_vars_df_list[0][\"Step\"]), color=\"grey\", linestyle=\"--\", linewidth=1)\n",
    "    plt.title(f\"Region {r}\")\n",
    "    plt.show()"
   ]
  },
  {
   "cell_type": "code",
   "execution_count": null,
   "id": "ffa939e6-0740-4d48-9dc1-59abdae40d09",
   "metadata": {},
   "outputs": [],
   "source": []
  }
 ],
 "metadata": {
  "kernelspec": {
   "display_name": "Python 3 (ipykernel)",
   "language": "python",
   "name": "python3"
  },
  "language_info": {
   "codemirror_mode": {
    "name": "ipython",
    "version": 3
   },
   "file_extension": ".py",
   "mimetype": "text/x-python",
   "name": "python",
   "nbconvert_exporter": "python",
   "pygments_lexer": "ipython3",
   "version": "3.11.7"
  }
 },
 "nbformat": 4,
 "nbformat_minor": 5
}
