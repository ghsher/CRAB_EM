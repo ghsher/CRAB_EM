{
 "cells": [
  {
   "cell_type": "code",
   "execution_count": null,
   "id": "5fde5b9e-a13d-4868-a237-b61b1ccdf29c",
   "metadata": {},
   "outputs": [],
   "source": [
    "import os\n",
    "import pandas as pd\n",
    "import numpy as np\n",
    "import matplotlib.pyplot as plt"
   ]
  },
  {
   "cell_type": "markdown",
   "id": "abfb3e65-c958-46bc-a14d-837396cafc37",
   "metadata": {},
   "source": [
    "### PLOTTING FUNCTIONS"
   ]
  },
  {
   "cell_type": "code",
   "execution_count": null,
   "id": "9fb7500a-427f-42f3-be3b-0d83ad8cd5b8",
   "metadata": {
    "jupyter": {
     "source_hidden": true
    }
   },
   "outputs": [],
   "source": [
    "# Function to plot specified variable per run\n",
    "def plot_all_runs(df_list, var, color=None):\n",
    "    label = var\n",
    "    for df in df_list:\n",
    "        df[var].plot(label=label, color=color) if color else df[var].plot(label=label)\n",
    "        label=\"_nolegend_\"  # This avoids duplicates in plot legend\n",
    "    plt.xlabel(\"Time\")\n",
    "    plt.ylabel(var)\n",
    "    plt.legend()\n",
    "\n",
    "def plot_difference(df_list, var1, var2):\n",
    "    label = str(var1) + \" - \" + str(var2)\n",
    "    for df in df_list:\n",
    "        diff = df[var1] - df[var2]\n",
    "        diff.plot(label=label)\n",
    "        label=\"_nolegend_\"  # This avoids duplicates in plot legend\n",
    "    plt.xlabel(\"Time\")\n",
    "    plt.ylabel(\"Amount\")\n",
    "    plt.legend()\n",
    "\n",
    "def plot_avg_per_type(df_list, agent_type, var, color=None):\n",
    "    label = agent_type\n",
    "    for df in df_list:\n",
    "        df = df[df[\"Type\"] == agent_type]\n",
    "        df.groupby([\"Step\"])[var].mean().plot(label=label, color=color)\n",
    "        label=\"_nolegend_\"  # This avoids duplicates in plot legend\n",
    "    plt.xlabel(\"Time\")\n",
    "    plt.ylabel(var)\n",
    "    plt.legend()\n",
    "\n",
    "def plot_total_per_type(df_list, agent_type, var, color=None):\n",
    "    label = agent_type\n",
    "    for df in df_list:\n",
    "        df = df[df[\"Type\"] == agent_type]\n",
    "        df.groupby([\"Step\"])[var].sum().plot(label=label, color=color)\n",
    "        label=\"_nolegend_\"  # This avoids duplicates in plot legend\n",
    "    plt.xlabel(\"Time\")\n",
    "    plt.ylabel(var)\n",
    "    plt.legend()"
   ]
  },
  {
   "cell_type": "markdown",
   "id": "5bc188c6-c7d2-4ea6-bbd1-9224fba2790d",
   "metadata": {},
   "source": [
    "### READ DATA"
   ]
  },
  {
   "cell_type": "markdown",
   "id": "5032b639-bed0-40bf-b333-80eab99ab640",
   "metadata": {},
   "source": [
    "#### Model variables"
   ]
  },
  {
   "cell_type": "code",
   "execution_count": null,
   "id": "eb046236-24e1-4ff2-8b67-deaf6f0e7d5e",
   "metadata": {
    "scrolled": true
   },
   "outputs": [],
   "source": [
    "# Read all model variables to list\n",
    "model_vars_df_list = []\n",
    "for file in os.listdir(\"results/\"):\n",
    "    if file.startswith(\"model\"):\n",
    "        df = pd.read_csv(\"results/\" + file)\n",
    "        model_vars_df_list.append(df)\n",
    "\n",
    "# Show first dataframe\n",
    "model_vars_df_list[0]"
   ]
  },
  {
   "cell_type": "markdown",
   "id": "f1a0ceb6-1797-44f5-a5f5-85a9d46d0255",
   "metadata": {},
   "source": [
    "#### Agent variables"
   ]
  },
  {
   "cell_type": "code",
   "execution_count": null,
   "id": "4d29b0d6-ce55-489d-b31d-34e6c805dcca",
   "metadata": {},
   "outputs": [],
   "source": [
    "agent_vars_df_list = []\n",
    "for file in os.listdir(\"results/\"):\n",
    "    if file.startswith(\"agent\"):\n",
    "        print(file)\n",
    "        df = pd.read_csv(\"results/\" + file)\n",
    "        agent_vars_df_list.append(df)\n",
    "\n",
    "agent_vars_df_list[0]"
   ]
  },
  {
   "cell_type": "markdown",
   "id": "0cc191c5-eee8-4653-835d-30890396da4f",
   "metadata": {},
   "source": [
    "### SANITY CHECKS"
   ]
  },
  {
   "cell_type": "markdown",
   "id": "54212959-a5df-48d2-877c-f2d5a151fa92",
   "metadata": {},
   "source": [
    "#### N FIRMS"
   ]
  },
  {
   "cell_type": "code",
   "execution_count": null,
   "id": "32b1a223-d927-463c-abdf-b1a752bb680a",
   "metadata": {
    "jupyter": {
     "source_hidden": true
    }
   },
   "outputs": [],
   "source": [
    "# Plot number of firms per sector\n",
    "plot_all_runs(model_vars_df_list, \"n_cap_firms\", color=\"tab:blue\")\n",
    "plot_all_runs(model_vars_df_list, \"n_cons_firms\", color=\"tab:orange\")\n",
    "plot_all_runs(model_vars_df_list, \"n_serv_firms\", color=\"tab:green\")\n",
    "\n",
    "plt.ylabel(\"N firms\")\n",
    "plt.show()"
   ]
  },
  {
   "cell_type": "markdown",
   "id": "75b180a3-ba7b-4527-a91d-ec81cb1a6ecc",
   "metadata": {},
   "source": [
    "#### CONSUMPTION"
   ]
  },
  {
   "cell_type": "code",
   "execution_count": null,
   "id": "5c098ee4-23b9-4577-bcb0-32fe2fc32b91",
   "metadata": {},
   "outputs": [],
   "source": [
    "plot_all_runs(model_vars_df_list, \"HH consumption\")\n",
    "# plt.ylim(4000, 5000)\n",
    "plt.show()\n",
    "\n",
    "for df in model_vars_df_list:\n",
    "    df[\"Total wage\"] = df[\"Avg wage\"] * 625\n",
    "plot_all_runs(model_vars_df_list, \"Total wage\")\n",
    "plt.show()"
   ]
  },
  {
   "cell_type": "markdown",
   "id": "83bdb1d4-90dc-4aae-af61-74edf22c4633",
   "metadata": {},
   "source": [
    "#### REAL DEMAND"
   ]
  },
  {
   "cell_type": "code",
   "execution_count": null,
   "id": "5437ce9a-c562-443c-92bf-20f948c33cbf",
   "metadata": {},
   "outputs": [],
   "source": [
    "# Plot ratio regional:export demand\n",
    "plot_all_runs(model_vars_df_list, \"Regional demand\", color=\"tab:blue\")\n",
    "plot_all_runs(model_vars_df_list, \"Export demand\", color=\"tab:orange\")\n",
    "# plt.ylim(4000, 5000)\n",
    "# plt.xlim(0, 50)\n",
    "plt.ylabel(\"Demand\")\n",
    "plt.show()\n",
    "\n",
    "# Plot average demand per sector\n",
    "plot_avg_per_type(agent_vars_df_list, agent_type=\"<class 'CRAB_agents.CapitalFirm'>\", var=\"Real demand\", color=\"tab:blue\")\n",
    "plot_avg_per_type(agent_vars_df_list, agent_type=\"<class 'CRAB_agents.ConsumptionGoodFirm'>\", var=\"Real demand\", color=\"tab:orange\")\n",
    "plot_avg_per_type(agent_vars_df_list, agent_type=\"<class 'CRAB_agents.ServiceFirm'>\", var=\"Real demand\", color=\"tab:green\")\n",
    "# plt.xlim(0, 50)\n",
    "plt.show()"
   ]
  },
  {
   "cell_type": "markdown",
   "id": "bc8c44e2-8e97-43c1-8d01-2e2e29e4f6e3",
   "metadata": {},
   "source": [
    "#### LABOR"
   ]
  },
  {
   "cell_type": "markdown",
   "id": "d91c003b-fae5-436d-ba03-29bb78cc6358",
   "metadata": {},
   "source": [
    "##### UNEMPLOYMENT RATE"
   ]
  },
  {
   "cell_type": "code",
   "execution_count": null,
   "id": "2579c5f7-8cfd-4919-9ee9-8645e0963d3a",
   "metadata": {},
   "outputs": [],
   "source": [
    "# Unemployment rate should vary between min 2-3 and max 10-15 percent\n",
    "n_steps = len(model_vars_df_list[0])\n",
    "plot_all_runs(model_vars_df_list, \"Unemployment rate\")\n",
    "plt.hlines(y=0.02, xmin=0, xmax=n_steps, color=\"grey\", linestyle=\"--\", linewidth=1)\n",
    "plt.hlines(y=0.15, xmin=0, xmax=n_steps, color=\"grey\", linestyle=\"--\", linewidth=1)\n",
    "plt.show()"
   ]
  },
  {
   "cell_type": "markdown",
   "id": "1b1c3da3-6741-4447-86f8-6bfa503ece00",
   "metadata": {},
   "source": [
    "##### LABOR DEMAND"
   ]
  },
  {
   "cell_type": "code",
   "execution_count": null,
   "id": "033f974d-49da-4a88-b132-32b8c8406831",
   "metadata": {},
   "outputs": [],
   "source": [
    "# Plot average labor demand per sector\n",
    "plot_avg_per_type(agent_vars_df_list, agent_type=\"<class 'CRAB_agents.CapitalFirm'>\", var=\"Labor demand\", color=\"tab:blue\")\n",
    "plot_avg_per_type(agent_vars_df_list, agent_type=\"<class 'CRAB_agents.ConsumptionGoodFirm'>\", var=\"Labor demand\", color=\"tab:orange\")\n",
    "plot_avg_per_type(agent_vars_df_list, agent_type=\"<class 'CRAB_agents.ServiceFirm'>\", var=\"Labor demand\", color=\"tab:green\")\n",
    "plt.show()"
   ]
  },
  {
   "cell_type": "markdown",
   "id": "7a659b20-10d2-41f3-88b1-f860f21195cd",
   "metadata": {},
   "source": [
    "##### SIZE"
   ]
  },
  {
   "cell_type": "code",
   "execution_count": null,
   "id": "e106e36e-94a2-48cb-85af-09fecfde8f73",
   "metadata": {},
   "outputs": [],
   "source": [
    "# Plot size (n employers) for all firms (average)\n",
    "plot_avg_per_type(agent_vars_df_list, agent_type=\"<class 'CRAB_agents.CapitalFirm'>\", var=\"Size\", color=\"tab:blue\")\n",
    "plot_avg_per_type(agent_vars_df_list, agent_type=\"<class 'CRAB_agents.ConsumptionGoodFirm'>\", var=\"Size\", color=\"tab:orange\")\n",
    "plot_avg_per_type(agent_vars_df_list, agent_type=\"<class 'CRAB_agents.ServiceFirm'>\", var=\"Size\", color=\"tab:green\")\n",
    "plt.show()"
   ]
  },
  {
   "cell_type": "code",
   "execution_count": null,
   "id": "f25229e4-ea64-40da-98c9-2d96084fec85",
   "metadata": {
    "scrolled": true
   },
   "outputs": [],
   "source": [
    "# Plot distribution of firms sizes at end of simulation\n",
    "df = agent_vars_df_list[0]\n",
    "\n",
    "firm_size_dict = {\n",
    "                  \"<class 'CRAB_agents.CapitalFirm'>\": (45, 125),\n",
    "                  \"<class 'CRAB_agents.ConsumptionGoodFirm'>\": (20, 200),\n",
    "                  \"<class 'CRAB_agents.ServiceFirm'>\": (30, 300),\n",
    "                 }\n",
    "\n",
    "for k, v in firm_size_dict.items():\n",
    "    for i in np.arange(9, 400, 10):\n",
    "        df_new = df[(df[\"Step\"] == i) & (df[\"Type\"] == k)]\n",
    "        df_new.hist(\"Size\", bins=10)\n",
    "        plt.title(\"TIMESTEP: \" + str(i+1) + \" \" + k)\n",
    "        plt.xlabel(\"Size\")\n",
    "        plt.ylim(0, v[1])\n",
    "        plt.xlim(0, v[0])\n",
    "        # plt.show()\n",
    "        plt.savefig(\"results/plots/sizes/\" + str(k).split(\".\")[-1][:-2] + \"_timestep\" + str(i+1))\n",
    "        plt.close()\n",
    "\n",
    "for k, v in firm_size_dict.items():\n",
    "    fig, ax = plt.subplots(2, 4)\n",
    "    for j, i in enumerate(np.arange(49, 400, 50)):\n",
    "        a = ax[j//4][j%4]\n",
    "        df_new = df[(df[\"Step\"] == i) & (df[\"Type\"] == k)]\n",
    "        df_new.hist(\"Size\", ax=a, bins=10)\n",
    "        a.set_title(\"Step: \" + str(i+1))\n",
    "        a.set_xlabel(\"Size\")\n",
    "        a.set_ylim(0, v[1])\n",
    "        a.set_xlim(0, v[0])\n",
    "    fig.suptitle(k.split(\".\")[-1][:-2])\n",
    "    fig.tight_layout()\n",
    "    plt.savefig(\"results/plots/sizes/\" + str(k).split(\".\")[-1][:-2])"
   ]
  },
  {
   "cell_type": "code",
   "execution_count": null,
   "id": "53007990-359e-40df-baed-7b1424491520",
   "metadata": {},
   "outputs": [],
   "source": [
    "# Plot distribution of firms market share at end of simulation\n",
    "df = agent_vars_df_list[0]\n",
    "\n",
    "firm_size_dict = {\n",
    "                  # \"<class 'CRAB_agents.CapitalFirm'>\": (0.01, 150),\n",
    "                  \"<class 'CRAB_agents.ConsumptionGoodFirm'>\": (0.02, 20),\n",
    "                  \"<class 'CRAB_agents.ServiceFirm'>\": (0.015, 20),\n",
    "                 }\n",
    "\n",
    "for k, v in firm_size_dict.items():\n",
    "    for i in np.arange(9, 400, 10):\n",
    "        df_new = df[(df[\"Step\"] == i) & (df[\"Type\"] == k)]\n",
    "        df_new.hist(\"Market share\", bins=100)\n",
    "        plt.title(\"TIMESTEP: \" + str(i+1) + \" \" + k)\n",
    "        plt.xlabel(\"Market share\")\n",
    "        plt.ylim(0, v[1])\n",
    "        plt.xlim(0, v[0])\n",
    "        # plt.savefig(\"results/plots/MS/\" + str(k).split(\".\")[-1][:-2] + \"_timestep\" + str(i+1))\n",
    "        plt.close()\n",
    "\n",
    "for k, v in firm_size_dict.items():\n",
    "    fig, ax = plt.subplots(2, 4)\n",
    "    for j, i in enumerate(np.arange(49, 400, 50)):\n",
    "        a = ax[j//4][j%4]\n",
    "        df_new = df[(df[\"Step\"] == i) & (df[\"Type\"] == k)]\n",
    "        df_new.hist(\"Market share\", ax=a, bins=50)\n",
    "        a.set_title(\"Step: \" + str(i+1))\n",
    "        a.set_xlabel(\"Market share\")\n",
    "        a.set_ylim(0, v[1])\n",
    "        a.set_xlim(0, 0.002)\n",
    "    fig.suptitle(k.split(\".\")[-1][:-2])\n",
    "    fig.tight_layout()\n",
    "    # plt.savefig(\"results/plots/MS/\" + str(k).split(\".\")[-1][:-2])"
   ]
  },
  {
   "cell_type": "markdown",
   "id": "c9828afe-3407-4db0-a312-1a9ed3490b68",
   "metadata": {},
   "source": [
    "#### MIN and AVERAGE WAGE"
   ]
  },
  {
   "cell_type": "code",
   "execution_count": null,
   "id": "d74fb0b3-9ef8-4269-a1f4-93559a12ab98",
   "metadata": {},
   "outputs": [],
   "source": [
    "# Plot average wage\n",
    "plot_avg_per_type(agent_vars_df_list, agent_type=\"<class 'CRAB_agents.CapitalFirm'>\", var=\"Wage\", color=\"tab:blue\")\n",
    "plot_avg_per_type(agent_vars_df_list, agent_type=\"<class 'CRAB_agents.ConsumptionGoodFirm'>\", var=\"Wage\", color=\"tab:orange\")\n",
    "plot_avg_per_type(agent_vars_df_list, agent_type=\"<class 'CRAB_agents.ServiceFirm'>\", var=\"Wage\", color=\"tab:green\")\n",
    "plt.show()\n",
    "\n",
    "plot_all_runs(model_vars_df_list, \"Avg wage\")\n",
    "plt.show()"
   ]
  },
  {
   "cell_type": "code",
   "execution_count": null,
   "id": "c9db1d1c-ad42-4e62-8f40-a916bfb70af4",
   "metadata": {},
   "outputs": [],
   "source": [
    "# Plot minimum wage\n",
    "plot_all_runs(model_vars_df_list, \"Min wage\", color=\"tab:blue\")\n",
    "plt.show()"
   ]
  },
  {
   "cell_type": "markdown",
   "id": "e9e0823a-9a00-4014-8ab4-ae3a4cbafb36",
   "metadata": {
    "collapsed": true,
    "jupyter": {
     "outputs_hidden": true
    }
   },
   "source": [
    "#### PRICES"
   ]
  },
  {
   "cell_type": "code",
   "execution_count": null,
   "id": "588598f5-282d-40c9-a6ce-419d82c416a7",
   "metadata": {},
   "outputs": [],
   "source": [
    "# Plot average prices per sector\n",
    "plot_avg_per_type(agent_vars_df_list, agent_type=\"<class 'CRAB_agents.CapitalFirm'>\", var=\"Price\", color=\"tab:blue\")\n",
    "plot_avg_per_type(agent_vars_df_list, agent_type=\"<class 'CRAB_agents.ConsumptionGoodFirm'>\", var=\"Price\", color=\"tab:orange\")\n",
    "plot_avg_per_type(agent_vars_df_list, agent_type=\"<class 'CRAB_agents.ServiceFirm'>\", var=\"Price\", color=\"tab:green\")\n",
    "plt.show()"
   ]
  },
  {
   "cell_type": "markdown",
   "id": "9c194ea8-1d28-42cb-a990-3d1403b63eee",
   "metadata": {},
   "source": [
    "#### MARKET SHARES"
   ]
  },
  {
   "cell_type": "code",
   "execution_count": null,
   "id": "244746dd-4a16-4ca7-bfb0-c4aec1ffe37b",
   "metadata": {},
   "outputs": [],
   "source": [
    "# Plot average market share per sector\n",
    "plot_avg_per_type(agent_vars_df_list, agent_type=\"<class 'CRAB_agents.CapitalFirm'>\", var=\"Market share\", color=\"tab:blue\")\n",
    "plot_avg_per_type(agent_vars_df_list, agent_type=\"<class 'CRAB_agents.ConsumptionGoodFirm'>\", var=\"Market share\", color=\"tab:orange\")\n",
    "plot_avg_per_type(agent_vars_df_list, agent_type=\"<class 'CRAB_agents.ServiceFirm'>\", var=\"Market share\", color=\"tab:green\")\n",
    "plt.show()"
   ]
  },
  {
   "cell_type": "code",
   "execution_count": null,
   "id": "8f4e0d6a-c100-470e-b619-46ab76f5e19d",
   "metadata": {},
   "outputs": [],
   "source": [
    "# Plot market share distribution"
   ]
  },
  {
   "cell_type": "markdown",
   "id": "db8f1834-6d62-4f61-81a2-106429f1cad0",
   "metadata": {},
   "source": [
    "#### NET WORTH"
   ]
  },
  {
   "cell_type": "code",
   "execution_count": null,
   "id": "3c057647-9ae4-42b6-8e2f-b34c37d6be82",
   "metadata": {},
   "outputs": [],
   "source": [
    "# Plot average net worth per sector\n",
    "plot_avg_per_type(agent_vars_df_list, agent_type=\"<class 'CRAB_agents.CapitalFirm'>\", var=\"Net worth\", color=\"tab:blue\")\n",
    "plot_avg_per_type(agent_vars_df_list, agent_type=\"<class 'CRAB_agents.ConsumptionGoodFirm'>\", var=\"Net worth\", color=\"tab:orange\")\n",
    "plot_avg_per_type(agent_vars_df_list, agent_type=\"<class 'CRAB_agents.ServiceFirm'>\", var=\"Net worth\", color=\"tab:green\")\n",
    "plt.show()"
   ]
  },
  {
   "cell_type": "markdown",
   "id": "f9a1e802-64a7-47e1-8d30-b952dcd26db1",
   "metadata": {
    "jp-MarkdownHeadingCollapsed": true
   },
   "source": [
    "#### PRODUCTIVITY and WAGES"
   ]
  },
  {
   "cell_type": "code",
   "execution_count": null,
   "id": "2e491865-b1a2-4f3f-b8b2-841d62a96ed7",
   "metadata": {},
   "outputs": [],
   "source": [
    "# Plot average ratio productivity : wage per sector\n",
    "for df in agent_vars_df_list:\n",
    "    df[\"Prod/wage\"] = df[\"Prod\"]/df[\"Wage\"]\n",
    "plot_avg_per_type(agent_vars_df_list, agent_type=\"<class 'CRAB_agents.CapitalFirm'>\", var=\"Prod/wage\", color=\"tab:blue\")\n",
    "plot_avg_per_type(agent_vars_df_list, agent_type=\"<class 'CRAB_agents.ConsumptionGoodFirm'>\", var=\"Prod/wage\", color=\"tab:orange\")\n",
    "plot_avg_per_type(agent_vars_df_list, agent_type=\"<class 'CRAB_agents.ServiceFirm'>\", var=\"Prod/wage\", color=\"tab:green\")\n",
    "plt.show()"
   ]
  },
  {
   "cell_type": "code",
   "execution_count": null,
   "id": "a32f4a58-fed3-401c-9c62-b00b1513ad7a",
   "metadata": {},
   "outputs": [],
   "source": [
    "# Plot average productivity per sector\n",
    "plot_avg_per_type(agent_vars_df_list, agent_type=\"<class 'CRAB_agents.CapitalFirm'>\", var=\"Prod\", color=\"tab:blue\")\n",
    "plot_avg_per_type(agent_vars_df_list, agent_type=\"<class 'CRAB_agents.ConsumptionGoodFirm'>\", var=\"Prod\", color=\"tab:orange\")\n",
    "plot_avg_per_type(agent_vars_df_list, agent_type=\"<class 'CRAB_agents.ServiceFirm'>\", var=\"Prod\", color=\"tab:green\")\n",
    "plt.show()"
   ]
  },
  {
   "cell_type": "code",
   "execution_count": null,
   "id": "69879f24-5d7d-4aa6-aff7-952beaa1f62c",
   "metadata": {},
   "outputs": [],
   "source": [
    "# Plot wages\n",
    "plot_avg_per_type(agent_vars_df_list, agent_type=\"<class 'CRAB_agents.CapitalFirm'>\", var=\"Wage\", color=\"tab:blue\")\n",
    "plot_avg_per_type(agent_vars_df_list, agent_type=\"<class 'CRAB_agents.ConsumptionGoodFirm'>\", var=\"Wage\", color=\"tab:orange\")\n",
    "plot_avg_per_type(agent_vars_df_list, agent_type=\"<class 'CRAB_agents.ServiceFirm'>\", var=\"Wage\", color=\"tab:green\")\n",
    "plt.show()"
   ]
  },
  {
   "cell_type": "markdown",
   "id": "acf26832-c8be-44e5-8138-b740a3705ba2",
   "metadata": {},
   "source": [
    "#### Inventories"
   ]
  },
  {
   "cell_type": "code",
   "execution_count": null,
   "id": "25508551-9479-4b3d-a351-1f66f5f88bc0",
   "metadata": {},
   "outputs": [],
   "source": [
    "# Plot inventory level\n",
    "plot_avg_per_type(agent_vars_df_list, agent_type=\"<class 'CRAB_agents.CapitalFirm'>\", var=\"Inventories\", color=\"tab:blue\")\n",
    "plot_avg_per_type(agent_vars_df_list, agent_type=\"<class 'CRAB_agents.ConsumptionGoodFirm'>\", var=\"Inventories\", color=\"tab:orange\")\n",
    "plot_avg_per_type(agent_vars_df_list, agent_type=\"<class 'CRAB_agents.ServiceFirm'>\", var=\"Inventories\", color=\"tab:green\")\n",
    "plt.show()"
   ]
  },
  {
   "cell_type": "markdown",
   "id": "6285a54f-1845-42d2-8930-a64e790b3970",
   "metadata": {},
   "source": [
    "##### Inventories/demand"
   ]
  },
  {
   "cell_type": "code",
   "execution_count": null,
   "id": "144f0f8e-ce2a-49ea-84ae-9a0bbcf3a651",
   "metadata": {},
   "outputs": [],
   "source": [
    "# Plot inventory level as fraction of demand\n",
    "for i in range(len(agent_vars_df_list)):\n",
    "    df = agent_vars_df_list[i]\n",
    "    df[\"Inv/demand\"] = df[\"Inventories\"]/df[\"Real demand\"]\n",
    "    df = df.replace({np.inf: np.nan})\n",
    "    agent_vars_df_list[i] = df\n",
    "plot_avg_per_type(agent_vars_df_list, agent_type=\"<class 'CRAB_agents.CapitalFirm'>\", var=\"Inv/demand\", color=\"tab:blue\")\n",
    "plot_avg_per_type(agent_vars_df_list, agent_type=\"<class 'CRAB_agents.ConsumptionGoodFirm'>\", var=\"Inv/demand\", color=\"tab:orange\")\n",
    "plot_avg_per_type(agent_vars_df_list, agent_type=\"<class 'CRAB_agents.ServiceFirm'>\", var=\"Inv/demand\", color=\"tab:green\")\n",
    "# plt.ylim(0, 2)\n",
    "# plt.xlim(0, 50)\n",
    "plt.show()"
   ]
  },
  {
   "cell_type": "markdown",
   "id": "100a3546-c4f3-4d18-a61d-4f47bf4dad36",
   "metadata": {},
   "source": [
    "##### Production made"
   ]
  },
  {
   "cell_type": "code",
   "execution_count": null,
   "id": "643067ce-a90a-4836-a13e-63a3c6aec733",
   "metadata": {},
   "outputs": [],
   "source": [
    "# Plot production made\n",
    "plot_avg_per_type(agent_vars_df_list, agent_type=\"<class 'CRAB_agents.CapitalFirm'>\", var=\"Production made\", color=\"tab:blue\")\n",
    "plot_avg_per_type(agent_vars_df_list, agent_type=\"<class 'CRAB_agents.ConsumptionGoodFirm'>\", var=\"Production made\", color=\"tab:orange\")\n",
    "plot_avg_per_type(agent_vars_df_list, agent_type=\"<class 'CRAB_agents.ServiceFirm'>\", var=\"Production made\", color=\"tab:green\")\n",
    "plt.show()"
   ]
  },
  {
   "cell_type": "markdown",
   "id": "b8b22fb0-5c2f-4e8e-83a6-e0963835cdd4",
   "metadata": {},
   "source": [
    "#### MACHINES"
   ]
  },
  {
   "cell_type": "markdown",
   "id": "c83adb38-11c7-488b-a7c1-349c2417d4a2",
   "metadata": {
    "jp-MarkdownHeadingCollapsed": true
   },
   "source": [
    "##### Capital amount"
   ]
  },
  {
   "cell_type": "code",
   "execution_count": null,
   "id": "38c1a8ed-087a-4b73-a958-74efac0f1955",
   "metadata": {},
   "outputs": [],
   "source": [
    "# Plot difference between desired machines and ordered machines (average)\n",
    "plot_avg_per_type(agent_vars_df_list, agent_type=\"<class 'CRAB_agents.CapitalFirm'>\", var=\"Capital amount\", color=\"tab:blue\")\n",
    "plot_avg_per_type(agent_vars_df_list, agent_type=\"<class 'CRAB_agents.ConsumptionGoodFirm'>\", var=\"Capital amount\", color=\"tab:orange\")\n",
    "plot_avg_per_type(agent_vars_df_list, agent_type=\"<class 'CRAB_agents.ServiceFirm'>\", var=\"Capital amount\", color=\"tab:green\")\n",
    "plt.show()"
   ]
  },
  {
   "cell_type": "markdown",
   "id": "84ae431a-64e4-41c5-aed3-202339e958bd",
   "metadata": {},
   "source": [
    "##### Capital demand (average per sector)"
   ]
  },
  {
   "cell_type": "code",
   "execution_count": null,
   "id": "eb406859-2c62-490a-bfba-bbdf9ca23138",
   "metadata": {},
   "outputs": [],
   "source": [
    "# Plot difference between desired machines and ordered machines (average)\n",
    "plot_avg_per_type(agent_vars_df_list, agent_type=\"<class 'CRAB_agents.CapitalFirm'>\", var=\"Capital desired\", color=\"tab:blue\")\n",
    "plot_avg_per_type(agent_vars_df_list, agent_type=\"<class 'CRAB_agents.ConsumptionGoodFirm'>\", var=\"Capital desired\", color=\"tab:orange\")\n",
    "plot_avg_per_type(agent_vars_df_list, agent_type=\"<class 'CRAB_agents.ServiceFirm'>\", var=\"Capital desired\", color=\"tab:green\")\n",
    "plt.show()"
   ]
  },
  {
   "cell_type": "markdown",
   "id": "b570b22d-4bcb-4065-9917-71e880236237",
   "metadata": {
    "jp-MarkdownHeadingCollapsed": true
   },
   "source": [
    "##### Orders per sector"
   ]
  },
  {
   "cell_type": "code",
   "execution_count": null,
   "id": "3cb5d664-b78f-4867-a37e-c6ec95c6a80f",
   "metadata": {},
   "outputs": [],
   "source": [
    "# Plot orders per sector (average)\n",
    "plot_avg_per_type(agent_vars_df_list, agent_type=\"<class 'CRAB_agents.CapitalFirm'>\", var=\"Capital ordered\", color=\"tab:blue\")\n",
    "plot_avg_per_type(agent_vars_df_list, agent_type=\"<class 'CRAB_agents.ConsumptionGoodFirm'>\", var=\"Capital ordered\", color=\"tab:orange\")\n",
    "plot_avg_per_type(agent_vars_df_list, agent_type=\"<class 'CRAB_agents.ServiceFirm'>\", var=\"Capital ordered\", color=\"tab:green\")\n",
    "plt.show()"
   ]
  },
  {
   "cell_type": "markdown",
   "id": "e66d0683-b7ad-4e33-b4eb-5121ab91f781",
   "metadata": {
    "jp-MarkdownHeadingCollapsed": true
   },
   "source": [
    "##### Machine lifetimes/moment of replacement"
   ]
  },
  {
   "cell_type": "code",
   "execution_count": null,
   "id": "253d3b88-97d6-4053-bff3-91d34c4bb336",
   "metadata": {},
   "outputs": [],
   "source": [
    "# Plot number of machines died every timestep\n",
    "plot_all_runs(model_vars_df_list, \"Frac machines dead\")"
   ]
  },
  {
   "cell_type": "code",
   "execution_count": null,
   "id": "ba1be016-3608-42c3-8055-5d070e5e6aef",
   "metadata": {},
   "outputs": [],
   "source": []
  },
  {
   "cell_type": "code",
   "execution_count": null,
   "id": "ef364179-aef0-49f8-8634-3417fe12db76",
   "metadata": {},
   "outputs": [],
   "source": []
  }
 ],
 "metadata": {
  "kernelspec": {
   "display_name": "Python 3 (ipykernel)",
   "language": "python",
   "name": "python3"
  },
  "language_info": {
   "codemirror_mode": {
    "name": "ipython",
    "version": 3
   },
   "file_extension": ".py",
   "mimetype": "text/x-python",
   "name": "python",
   "nbconvert_exporter": "python",
   "pygments_lexer": "ipython3",
   "version": "3.11.7"
  }
 },
 "nbformat": 4,
 "nbformat_minor": 5
}
