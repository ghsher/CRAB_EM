{
 "cells": [
  {
   "cell_type": "code",
   "execution_count": 608,
   "id": "5fde5b9e-a13d-4868-a237-b61b1ccdf29c",
   "metadata": {},
   "outputs": [],
   "source": [
    "import os\n",
    "import pandas as pd\n",
    "import numpy as np\n",
    "import matplotlib.pyplot as plt\n",
    "import seaborn as sns\n"
   ]
  },
  {
   "cell_type": "markdown",
   "id": "abfb3e65-c958-46bc-a14d-837396cafc37",
   "metadata": {},
   "source": [
    "### PLOTTING FUNCTIONS"
   ]
  },
  {
   "cell_type": "code",
   "execution_count": 609,
   "id": "9fb7500a-427f-42f3-be3b-0d83ad8cd5b8",
   "metadata": {
    "jupyter": {
     "source_hidden": true
    }
   },
   "outputs": [],
   "source": [
    "# Function to plot specified variable per run\n",
    "def plot_all_runs(df_list, var, legen= True, color=None):\n",
    "    label = var\n",
    "    for df in df_list:\n",
    "        df[var].plot(label=label, color=color) if color else df[var].plot(label=label)\n",
    "        label=\"_nolegend_\"  # This avoids duplicates in plot legend\n",
    "    plt.xlabel(\"Time\")\n",
    "    plt.ylabel(var)\n",
    "    if legen:\n",
    "        plt.legend()\n",
    "\n",
    "\n",
    "def plot_difference(df_list, var1, var2, legend=True):\n",
    "    label = str(var1) + \" - \" + str(var2)\n",
    "    for df in df_list:\n",
    "        diff = df[var1] - df[var2]\n",
    "        diff.plot(label=label)\n",
    "        label=\"_nolegend_\"  # This avoids duplicates in plot legend\n",
    "    plt.xlabel(\"Time\")\n",
    "    plt.ylabel(\"Amount\")\n",
    "    if legend:\n",
    "        plt.legend()\n",
    "\n",
    "def plot_avg_per_type(df_list, agent_type, var, legend = True, color=None):\n",
    "    label = agent_type\n",
    "    for df in df_list:\n",
    "        df = df[df[\"Type\"] == agent_type]\n",
    "        df.groupby([\"Step\"])[var].mean().plot(label=label, color=color)\n",
    "        label=\"_nolegend_\"  # This avoids duplicates in plot legend\n",
    "    plt.xlabel(\"Time\")\n",
    "    plt.ylabel(var)\n",
    "    if legend:\n",
    "        plt.legend()\n",
    "\n",
    "def plot_total_per_type(df_list, agent_type, var,legend = True, color=None):\n",
    "    label = agent_type\n",
    "    for df in df_list:\n",
    "        df = df[df[\"Type\"] == agent_type]\n",
    "        df.groupby([\"Step\"])[var].sum().plot(label=label, color=color)\n",
    "        label=\"_nolegend_\"  # This avoids duplicates in plot legend\n",
    "    plt.xlabel(\"Time\")\n",
    "    plt.ylabel(var)\n",
    "    if legend:\n",
    "        plt.legend()\n"
   ]
  },
  {
   "cell_type": "markdown",
   "id": "5bc188c6-c7d2-4ea6-bbd1-9224fba2790d",
   "metadata": {},
   "source": [
    "### READ DATA"
   ]
  },
  {
   "cell_type": "markdown",
   "id": "5032b639-bed0-40bf-b333-80eab99ab640",
   "metadata": {},
   "source": [
    "#### Model variables"
   ]
  },
  {
   "cell_type": "code",
   "execution_count": 610,
   "id": "eb046236-24e1-4ff2-8b67-deaf6f0e7d5e",
   "metadata": {
    "jupyter": {
     "source_hidden": true
    }
   },
   "outputs": [
    {
     "data": {
      "text/html": [
       "<div>\n",
       "<style scoped>\n",
       "    .dataframe tbody tr th:only-of-type {\n",
       "        vertical-align: middle;\n",
       "    }\n",
       "\n",
       "    .dataframe tbody tr th {\n",
       "        vertical-align: top;\n",
       "    }\n",
       "\n",
       "    .dataframe thead th {\n",
       "        text-align: right;\n",
       "    }\n",
       "</style>\n",
       "<table border=\"1\" class=\"dataframe\">\n",
       "  <thead>\n",
       "    <tr style=\"text-align: right;\">\n",
       "      <th></th>\n",
       "      <th>n_agents</th>\n",
       "      <th>n_households</th>\n",
       "      <th>n_cap_firms</th>\n",
       "      <th>n_agr_firms</th>\n",
       "      <th>n_ind_firms</th>\n",
       "      <th>n_cons_firms</th>\n",
       "      <th>n_trans_firms</th>\n",
       "      <th>n_inf_firms</th>\n",
       "      <th>n_fin_firms</th>\n",
       "      <th>n_rec_firms</th>\n",
       "      <th>HH consumption</th>\n",
       "      <th>Regional demand</th>\n",
       "      <th>Export demand</th>\n",
       "      <th>Unemployment rate</th>\n",
       "      <th>Min wage</th>\n",
       "      <th>Avg wage</th>\n",
       "    </tr>\n",
       "  </thead>\n",
       "  <tbody>\n",
       "    <tr>\n",
       "      <th>0</th>\n",
       "      <td>11276</td>\n",
       "      <td>10000</td>\n",
       "      <td>125</td>\n",
       "      <td>200</td>\n",
       "      <td>300</td>\n",
       "      <td>200</td>\n",
       "      <td>150</td>\n",
       "      <td>100</td>\n",
       "      <td>100</td>\n",
       "      <td>100</td>\n",
       "      <td>2146.966554</td>\n",
       "      <td>2146.967</td>\n",
       "      <td>0.0</td>\n",
       "      <td>0.87</td>\n",
       "      <td>0.100</td>\n",
       "      <td>0.999582</td>\n",
       "    </tr>\n",
       "    <tr>\n",
       "      <th>1</th>\n",
       "      <td>11276</td>\n",
       "      <td>10000</td>\n",
       "      <td>125</td>\n",
       "      <td>200</td>\n",
       "      <td>300</td>\n",
       "      <td>200</td>\n",
       "      <td>150</td>\n",
       "      <td>100</td>\n",
       "      <td>100</td>\n",
       "      <td>100</td>\n",
       "      <td>6673.845554</td>\n",
       "      <td>6673.847</td>\n",
       "      <td>0.0</td>\n",
       "      <td>0.86</td>\n",
       "      <td>0.600</td>\n",
       "      <td>1.071221</td>\n",
       "    </tr>\n",
       "    <tr>\n",
       "      <th>2</th>\n",
       "      <td>11276</td>\n",
       "      <td>10000</td>\n",
       "      <td>125</td>\n",
       "      <td>200</td>\n",
       "      <td>300</td>\n",
       "      <td>200</td>\n",
       "      <td>150</td>\n",
       "      <td>100</td>\n",
       "      <td>100</td>\n",
       "      <td>100</td>\n",
       "      <td>7901.766554</td>\n",
       "      <td>7901.767</td>\n",
       "      <td>0.0</td>\n",
       "      <td>0.66</td>\n",
       "      <td>0.642</td>\n",
       "      <td>1.074633</td>\n",
       "    </tr>\n",
       "    <tr>\n",
       "      <th>3</th>\n",
       "      <td>11276</td>\n",
       "      <td>10000</td>\n",
       "      <td>125</td>\n",
       "      <td>200</td>\n",
       "      <td>300</td>\n",
       "      <td>200</td>\n",
       "      <td>150</td>\n",
       "      <td>100</td>\n",
       "      <td>100</td>\n",
       "      <td>100</td>\n",
       "      <td>8708.936285</td>\n",
       "      <td>8708.936</td>\n",
       "      <td>0.0</td>\n",
       "      <td>0.48</td>\n",
       "      <td>0.642</td>\n",
       "      <td>1.078987</td>\n",
       "    </tr>\n",
       "    <tr>\n",
       "      <th>4</th>\n",
       "      <td>11276</td>\n",
       "      <td>10000</td>\n",
       "      <td>125</td>\n",
       "      <td>200</td>\n",
       "      <td>300</td>\n",
       "      <td>200</td>\n",
       "      <td>150</td>\n",
       "      <td>100</td>\n",
       "      <td>100</td>\n",
       "      <td>100</td>\n",
       "      <td>9023.158773</td>\n",
       "      <td>9023.160</td>\n",
       "      <td>0.0</td>\n",
       "      <td>0.41</td>\n",
       "      <td>0.648</td>\n",
       "      <td>1.076502</td>\n",
       "    </tr>\n",
       "    <tr>\n",
       "      <th>...</th>\n",
       "      <td>...</td>\n",
       "      <td>...</td>\n",
       "      <td>...</td>\n",
       "      <td>...</td>\n",
       "      <td>...</td>\n",
       "      <td>...</td>\n",
       "      <td>...</td>\n",
       "      <td>...</td>\n",
       "      <td>...</td>\n",
       "      <td>...</td>\n",
       "      <td>...</td>\n",
       "      <td>...</td>\n",
       "      <td>...</td>\n",
       "      <td>...</td>\n",
       "      <td>...</td>\n",
       "      <td>...</td>\n",
       "    </tr>\n",
       "    <tr>\n",
       "      <th>195</th>\n",
       "      <td>11276</td>\n",
       "      <td>10000</td>\n",
       "      <td>125</td>\n",
       "      <td>200</td>\n",
       "      <td>300</td>\n",
       "      <td>200</td>\n",
       "      <td>150</td>\n",
       "      <td>100</td>\n",
       "      <td>100</td>\n",
       "      <td>100</td>\n",
       "      <td>9952.696056</td>\n",
       "      <td>9952.696</td>\n",
       "      <td>0.0</td>\n",
       "      <td>0.18</td>\n",
       "      <td>0.642</td>\n",
       "      <td>1.071403</td>\n",
       "    </tr>\n",
       "    <tr>\n",
       "      <th>196</th>\n",
       "      <td>11276</td>\n",
       "      <td>10000</td>\n",
       "      <td>125</td>\n",
       "      <td>200</td>\n",
       "      <td>300</td>\n",
       "      <td>200</td>\n",
       "      <td>150</td>\n",
       "      <td>100</td>\n",
       "      <td>100</td>\n",
       "      <td>100</td>\n",
       "      <td>9959.640316</td>\n",
       "      <td>9959.640</td>\n",
       "      <td>0.0</td>\n",
       "      <td>0.18</td>\n",
       "      <td>0.642</td>\n",
       "      <td>1.071516</td>\n",
       "    </tr>\n",
       "    <tr>\n",
       "      <th>197</th>\n",
       "      <td>11276</td>\n",
       "      <td>10000</td>\n",
       "      <td>125</td>\n",
       "      <td>200</td>\n",
       "      <td>300</td>\n",
       "      <td>200</td>\n",
       "      <td>150</td>\n",
       "      <td>100</td>\n",
       "      <td>100</td>\n",
       "      <td>100</td>\n",
       "      <td>9945.363237</td>\n",
       "      <td>9945.362</td>\n",
       "      <td>0.0</td>\n",
       "      <td>0.18</td>\n",
       "      <td>0.642</td>\n",
       "      <td>1.071294</td>\n",
       "    </tr>\n",
       "    <tr>\n",
       "      <th>198</th>\n",
       "      <td>11276</td>\n",
       "      <td>10000</td>\n",
       "      <td>125</td>\n",
       "      <td>200</td>\n",
       "      <td>300</td>\n",
       "      <td>200</td>\n",
       "      <td>150</td>\n",
       "      <td>100</td>\n",
       "      <td>100</td>\n",
       "      <td>100</td>\n",
       "      <td>9924.866901</td>\n",
       "      <td>9924.867</td>\n",
       "      <td>0.0</td>\n",
       "      <td>0.18</td>\n",
       "      <td>0.642</td>\n",
       "      <td>1.071887</td>\n",
       "    </tr>\n",
       "    <tr>\n",
       "      <th>199</th>\n",
       "      <td>11276</td>\n",
       "      <td>10000</td>\n",
       "      <td>125</td>\n",
       "      <td>200</td>\n",
       "      <td>300</td>\n",
       "      <td>200</td>\n",
       "      <td>150</td>\n",
       "      <td>100</td>\n",
       "      <td>100</td>\n",
       "      <td>100</td>\n",
       "      <td>9907.227000</td>\n",
       "      <td>9907.227</td>\n",
       "      <td>0.0</td>\n",
       "      <td>0.19</td>\n",
       "      <td>0.642</td>\n",
       "      <td>1.071832</td>\n",
       "    </tr>\n",
       "  </tbody>\n",
       "</table>\n",
       "<p>200 rows × 16 columns</p>\n",
       "</div>"
      ],
      "text/plain": [
       "     n_agents  n_households  n_cap_firms  n_agr_firms  n_ind_firms  \\\n",
       "0       11276         10000          125          200          300   \n",
       "1       11276         10000          125          200          300   \n",
       "2       11276         10000          125          200          300   \n",
       "3       11276         10000          125          200          300   \n",
       "4       11276         10000          125          200          300   \n",
       "..        ...           ...          ...          ...          ...   \n",
       "195     11276         10000          125          200          300   \n",
       "196     11276         10000          125          200          300   \n",
       "197     11276         10000          125          200          300   \n",
       "198     11276         10000          125          200          300   \n",
       "199     11276         10000          125          200          300   \n",
       "\n",
       "     n_cons_firms  n_trans_firms  n_inf_firms  n_fin_firms  n_rec_firms  \\\n",
       "0             200            150          100          100          100   \n",
       "1             200            150          100          100          100   \n",
       "2             200            150          100          100          100   \n",
       "3             200            150          100          100          100   \n",
       "4             200            150          100          100          100   \n",
       "..            ...            ...          ...          ...          ...   \n",
       "195           200            150          100          100          100   \n",
       "196           200            150          100          100          100   \n",
       "197           200            150          100          100          100   \n",
       "198           200            150          100          100          100   \n",
       "199           200            150          100          100          100   \n",
       "\n",
       "     HH consumption  Regional demand  Export demand  Unemployment rate  \\\n",
       "0       2146.966554         2146.967            0.0               0.87   \n",
       "1       6673.845554         6673.847            0.0               0.86   \n",
       "2       7901.766554         7901.767            0.0               0.66   \n",
       "3       8708.936285         8708.936            0.0               0.48   \n",
       "4       9023.158773         9023.160            0.0               0.41   \n",
       "..              ...              ...            ...                ...   \n",
       "195     9952.696056         9952.696            0.0               0.18   \n",
       "196     9959.640316         9959.640            0.0               0.18   \n",
       "197     9945.363237         9945.362            0.0               0.18   \n",
       "198     9924.866901         9924.867            0.0               0.18   \n",
       "199     9907.227000         9907.227            0.0               0.19   \n",
       "\n",
       "     Min wage  Avg wage  \n",
       "0       0.100  0.999582  \n",
       "1       0.600  1.071221  \n",
       "2       0.642  1.074633  \n",
       "3       0.642  1.078987  \n",
       "4       0.648  1.076502  \n",
       "..        ...       ...  \n",
       "195     0.642  1.071403  \n",
       "196     0.642  1.071516  \n",
       "197     0.642  1.071294  \n",
       "198     0.642  1.071887  \n",
       "199     0.642  1.071832  \n",
       "\n",
       "[200 rows x 16 columns]"
      ]
     },
     "execution_count": 610,
     "metadata": {},
     "output_type": "execute_result"
    }
   ],
   "source": [
    "# Read all model variables to list\n",
    "model_vars_df_list = []\n",
    "for file in os.listdir(\"results/\"):\n",
    "    if file.startswith(\"model\"):\n",
    "        df = pd.read_csv(\"results/\" + file)\n",
    "        model_vars_df_list.append(df)\n",
    "\n",
    "# Show first dataframe\n",
    "model_vars_df_list[0]"
   ]
  },
  {
   "cell_type": "code",
   "execution_count": 611,
   "id": "d72c16f6",
   "metadata": {},
   "outputs": [
    {
     "name": "stdout",
     "output_type": "stream",
     "text": [
      "4\n"
     ]
    }
   ],
   "source": [
    "a = - 1\n",
    "b = 5 \n",
    "print(a + b)"
   ]
  },
  {
   "cell_type": "markdown",
   "id": "f1a0ceb6-1797-44f5-a5f5-85a9d46d0255",
   "metadata": {},
   "source": [
    "#### Agent variables"
   ]
  },
  {
   "cell_type": "code",
   "execution_count": 612,
   "id": "4d29b0d6-ce55-489d-b31d-34e6c805dcca",
   "metadata": {
    "jupyter": {
     "source_hidden": true
    },
    "scrolled": true
   },
   "outputs": [
    {
     "name": "stdout",
     "output_type": "stream",
     "text": [
      "agent_vars_60.csv\n",
      "agent_vars_80.csv\n",
      "agent_vars_40.csv\n",
      "agent_vars_0.csv\n",
      "agent_vars_20.csv\n"
     ]
    },
    {
     "data": {
      "text/html": [
       "<div>\n",
       "<style scoped>\n",
       "    .dataframe tbody tr th:only-of-type {\n",
       "        vertical-align: middle;\n",
       "    }\n",
       "\n",
       "    .dataframe tbody tr th {\n",
       "        vertical-align: top;\n",
       "    }\n",
       "\n",
       "    .dataframe thead th {\n",
       "        text-align: right;\n",
       "    }\n",
       "</style>\n",
       "<table border=\"1\" class=\"dataframe\">\n",
       "  <thead>\n",
       "    <tr style=\"text-align: right;\">\n",
       "      <th></th>\n",
       "      <th>Step</th>\n",
       "      <th>AgentID</th>\n",
       "      <th>Type</th>\n",
       "      <th>Price</th>\n",
       "      <th>Market share</th>\n",
       "      <th>Prod</th>\n",
       "      <th>Inventories</th>\n",
       "      <th>N ordered</th>\n",
       "      <th>Production made</th>\n",
       "      <th>Feasible production</th>\n",
       "      <th>Sum past demand</th>\n",
       "      <th>Past demand</th>\n",
       "      <th>Real demand</th>\n",
       "      <th>Wage</th>\n",
       "      <th>Net worth</th>\n",
       "      <th>Debt</th>\n",
       "      <th>Size</th>\n",
       "      <th>Labor demand</th>\n",
       "      <th>Capital amount</th>\n",
       "    </tr>\n",
       "  </thead>\n",
       "  <tbody>\n",
       "    <tr>\n",
       "      <th>0</th>\n",
       "      <td>1</td>\n",
       "      <td>1</td>\n",
       "      <td>&lt;class 'CRAB_agents.CapitalFirm'&gt;</td>\n",
       "      <td>1.165000</td>\n",
       "      <td>0.008</td>\n",
       "      <td>1.093</td>\n",
       "      <td>1.09</td>\n",
       "      <td>0.0</td>\n",
       "      <td>1.09</td>\n",
       "      <td>1.0</td>\n",
       "      <td>3.0</td>\n",
       "      <td>1.0</td>\n",
       "      <td>0.0</td>\n",
       "      <td>0.978976</td>\n",
       "      <td>150.000000</td>\n",
       "      <td>0.0</td>\n",
       "      <td>1.0</td>\n",
       "      <td>1.0</td>\n",
       "      <td>60.0</td>\n",
       "    </tr>\n",
       "    <tr>\n",
       "      <th>1</th>\n",
       "      <td>1</td>\n",
       "      <td>2</td>\n",
       "      <td>&lt;class 'CRAB_agents.CapitalFirm'&gt;</td>\n",
       "      <td>1.207000</td>\n",
       "      <td>0.008</td>\n",
       "      <td>1.078</td>\n",
       "      <td>1.08</td>\n",
       "      <td>0.0</td>\n",
       "      <td>1.08</td>\n",
       "      <td>1.0</td>\n",
       "      <td>3.0</td>\n",
       "      <td>1.0</td>\n",
       "      <td>0.0</td>\n",
       "      <td>1.000079</td>\n",
       "      <td>150.000000</td>\n",
       "      <td>0.0</td>\n",
       "      <td>1.0</td>\n",
       "      <td>1.0</td>\n",
       "      <td>57.0</td>\n",
       "    </tr>\n",
       "    <tr>\n",
       "      <th>2</th>\n",
       "      <td>1</td>\n",
       "      <td>3</td>\n",
       "      <td>&lt;class 'CRAB_agents.CapitalFirm'&gt;</td>\n",
       "      <td>1.188000</td>\n",
       "      <td>0.008</td>\n",
       "      <td>1.117</td>\n",
       "      <td>1.12</td>\n",
       "      <td>0.0</td>\n",
       "      <td>1.12</td>\n",
       "      <td>1.0</td>\n",
       "      <td>3.0</td>\n",
       "      <td>1.0</td>\n",
       "      <td>0.0</td>\n",
       "      <td>1.020763</td>\n",
       "      <td>150.000000</td>\n",
       "      <td>0.0</td>\n",
       "      <td>1.0</td>\n",
       "      <td>1.0</td>\n",
       "      <td>60.0</td>\n",
       "    </tr>\n",
       "    <tr>\n",
       "      <th>3</th>\n",
       "      <td>1</td>\n",
       "      <td>4</td>\n",
       "      <td>&lt;class 'CRAB_agents.CapitalFirm'&gt;</td>\n",
       "      <td>1.147000</td>\n",
       "      <td>0.008</td>\n",
       "      <td>1.109</td>\n",
       "      <td>1.11</td>\n",
       "      <td>0.0</td>\n",
       "      <td>1.11</td>\n",
       "      <td>1.0</td>\n",
       "      <td>3.0</td>\n",
       "      <td>1.0</td>\n",
       "      <td>0.0</td>\n",
       "      <td>0.978849</td>\n",
       "      <td>150.000000</td>\n",
       "      <td>0.0</td>\n",
       "      <td>1.0</td>\n",
       "      <td>1.0</td>\n",
       "      <td>60.0</td>\n",
       "    </tr>\n",
       "    <tr>\n",
       "      <th>4</th>\n",
       "      <td>1</td>\n",
       "      <td>5</td>\n",
       "      <td>&lt;class 'CRAB_agents.CapitalFirm'&gt;</td>\n",
       "      <td>1.227000</td>\n",
       "      <td>0.008</td>\n",
       "      <td>1.072</td>\n",
       "      <td>1.07</td>\n",
       "      <td>0.0</td>\n",
       "      <td>1.07</td>\n",
       "      <td>1.0</td>\n",
       "      <td>3.0</td>\n",
       "      <td>1.0</td>\n",
       "      <td>0.0</td>\n",
       "      <td>1.011423</td>\n",
       "      <td>150.000000</td>\n",
       "      <td>0.0</td>\n",
       "      <td>1.0</td>\n",
       "      <td>1.0</td>\n",
       "      <td>60.0</td>\n",
       "    </tr>\n",
       "    <tr>\n",
       "      <th>...</th>\n",
       "      <td>...</td>\n",
       "      <td>...</td>\n",
       "      <td>...</td>\n",
       "      <td>...</td>\n",
       "      <td>...</td>\n",
       "      <td>...</td>\n",
       "      <td>...</td>\n",
       "      <td>...</td>\n",
       "      <td>...</td>\n",
       "      <td>...</td>\n",
       "      <td>...</td>\n",
       "      <td>...</td>\n",
       "      <td>...</td>\n",
       "      <td>...</td>\n",
       "      <td>...</td>\n",
       "      <td>...</td>\n",
       "      <td>...</td>\n",
       "      <td>...</td>\n",
       "      <td>...</td>\n",
       "    </tr>\n",
       "    <tr>\n",
       "      <th>2255195</th>\n",
       "      <td>200</td>\n",
       "      <td>12825</td>\n",
       "      <td>&lt;class 'CRAB_agents.Transport'&gt;</td>\n",
       "      <td>1.290017</td>\n",
       "      <td>0.000</td>\n",
       "      <td>1.100</td>\n",
       "      <td>0.00</td>\n",
       "      <td>0.0</td>\n",
       "      <td>1.00</td>\n",
       "      <td>NaN</td>\n",
       "      <td>2.0</td>\n",
       "      <td>1.0</td>\n",
       "      <td>1.0</td>\n",
       "      <td>1.069000</td>\n",
       "      <td>39.797855</td>\n",
       "      <td>NaN</td>\n",
       "      <td>0.0</td>\n",
       "      <td>NaN</td>\n",
       "      <td>7.0</td>\n",
       "    </tr>\n",
       "    <tr>\n",
       "      <th>2255196</th>\n",
       "      <td>200</td>\n",
       "      <td>12826</td>\n",
       "      <td>&lt;class 'CRAB_agents.Information'&gt;</td>\n",
       "      <td>1.406364</td>\n",
       "      <td>0.000</td>\n",
       "      <td>1.100</td>\n",
       "      <td>0.00</td>\n",
       "      <td>0.0</td>\n",
       "      <td>1.00</td>\n",
       "      <td>NaN</td>\n",
       "      <td>2.0</td>\n",
       "      <td>1.0</td>\n",
       "      <td>1.0</td>\n",
       "      <td>1.105000</td>\n",
       "      <td>56.812378</td>\n",
       "      <td>NaN</td>\n",
       "      <td>0.0</td>\n",
       "      <td>NaN</td>\n",
       "      <td>3.0</td>\n",
       "    </tr>\n",
       "    <tr>\n",
       "      <th>2255197</th>\n",
       "      <td>200</td>\n",
       "      <td>12827</td>\n",
       "      <td>&lt;class 'CRAB_agents.Finance'&gt;</td>\n",
       "      <td>1.274342</td>\n",
       "      <td>0.000</td>\n",
       "      <td>1.100</td>\n",
       "      <td>0.00</td>\n",
       "      <td>0.0</td>\n",
       "      <td>1.00</td>\n",
       "      <td>NaN</td>\n",
       "      <td>2.0</td>\n",
       "      <td>1.0</td>\n",
       "      <td>1.0</td>\n",
       "      <td>1.060000</td>\n",
       "      <td>41.721278</td>\n",
       "      <td>NaN</td>\n",
       "      <td>0.0</td>\n",
       "      <td>NaN</td>\n",
       "      <td>4.0</td>\n",
       "    </tr>\n",
       "    <tr>\n",
       "      <th>2255198</th>\n",
       "      <td>200</td>\n",
       "      <td>12828</td>\n",
       "      <td>&lt;class 'CRAB_agents.Finance'&gt;</td>\n",
       "      <td>1.278054</td>\n",
       "      <td>0.000</td>\n",
       "      <td>1.100</td>\n",
       "      <td>0.00</td>\n",
       "      <td>0.0</td>\n",
       "      <td>1.00</td>\n",
       "      <td>NaN</td>\n",
       "      <td>2.0</td>\n",
       "      <td>1.0</td>\n",
       "      <td>1.0</td>\n",
       "      <td>1.111000</td>\n",
       "      <td>103.722924</td>\n",
       "      <td>NaN</td>\n",
       "      <td>0.0</td>\n",
       "      <td>NaN</td>\n",
       "      <td>4.0</td>\n",
       "    </tr>\n",
       "    <tr>\n",
       "      <th>2255199</th>\n",
       "      <td>200</td>\n",
       "      <td>12829</td>\n",
       "      <td>&lt;class 'CRAB_agents.Recreation'&gt;</td>\n",
       "      <td>1.160455</td>\n",
       "      <td>0.000</td>\n",
       "      <td>1.099</td>\n",
       "      <td>0.00</td>\n",
       "      <td>0.0</td>\n",
       "      <td>1.00</td>\n",
       "      <td>NaN</td>\n",
       "      <td>2.0</td>\n",
       "      <td>1.0</td>\n",
       "      <td>1.0</td>\n",
       "      <td>1.052000</td>\n",
       "      <td>36.684279</td>\n",
       "      <td>NaN</td>\n",
       "      <td>0.0</td>\n",
       "      <td>NaN</td>\n",
       "      <td>2.0</td>\n",
       "    </tr>\n",
       "  </tbody>\n",
       "</table>\n",
       "<p>2255200 rows × 19 columns</p>\n",
       "</div>"
      ],
      "text/plain": [
       "         Step  AgentID                               Type     Price  \\\n",
       "0           1        1  <class 'CRAB_agents.CapitalFirm'>  1.165000   \n",
       "1           1        2  <class 'CRAB_agents.CapitalFirm'>  1.207000   \n",
       "2           1        3  <class 'CRAB_agents.CapitalFirm'>  1.188000   \n",
       "3           1        4  <class 'CRAB_agents.CapitalFirm'>  1.147000   \n",
       "4           1        5  <class 'CRAB_agents.CapitalFirm'>  1.227000   \n",
       "...       ...      ...                                ...       ...   \n",
       "2255195   200    12825    <class 'CRAB_agents.Transport'>  1.290017   \n",
       "2255196   200    12826  <class 'CRAB_agents.Information'>  1.406364   \n",
       "2255197   200    12827      <class 'CRAB_agents.Finance'>  1.274342   \n",
       "2255198   200    12828      <class 'CRAB_agents.Finance'>  1.278054   \n",
       "2255199   200    12829   <class 'CRAB_agents.Recreation'>  1.160455   \n",
       "\n",
       "         Market share   Prod  Inventories  N ordered  Production made  \\\n",
       "0               0.008  1.093         1.09        0.0             1.09   \n",
       "1               0.008  1.078         1.08        0.0             1.08   \n",
       "2               0.008  1.117         1.12        0.0             1.12   \n",
       "3               0.008  1.109         1.11        0.0             1.11   \n",
       "4               0.008  1.072         1.07        0.0             1.07   \n",
       "...               ...    ...          ...        ...              ...   \n",
       "2255195         0.000  1.100         0.00        0.0             1.00   \n",
       "2255196         0.000  1.100         0.00        0.0             1.00   \n",
       "2255197         0.000  1.100         0.00        0.0             1.00   \n",
       "2255198         0.000  1.100         0.00        0.0             1.00   \n",
       "2255199         0.000  1.099         0.00        0.0             1.00   \n",
       "\n",
       "         Feasible production  Sum past demand  Past demand  Real demand  \\\n",
       "0                        1.0              3.0          1.0          0.0   \n",
       "1                        1.0              3.0          1.0          0.0   \n",
       "2                        1.0              3.0          1.0          0.0   \n",
       "3                        1.0              3.0          1.0          0.0   \n",
       "4                        1.0              3.0          1.0          0.0   \n",
       "...                      ...              ...          ...          ...   \n",
       "2255195                  NaN              2.0          1.0          1.0   \n",
       "2255196                  NaN              2.0          1.0          1.0   \n",
       "2255197                  NaN              2.0          1.0          1.0   \n",
       "2255198                  NaN              2.0          1.0          1.0   \n",
       "2255199                  NaN              2.0          1.0          1.0   \n",
       "\n",
       "             Wage   Net worth  Debt  Size  Labor demand  Capital amount  \n",
       "0        0.978976  150.000000   0.0   1.0           1.0            60.0  \n",
       "1        1.000079  150.000000   0.0   1.0           1.0            57.0  \n",
       "2        1.020763  150.000000   0.0   1.0           1.0            60.0  \n",
       "3        0.978849  150.000000   0.0   1.0           1.0            60.0  \n",
       "4        1.011423  150.000000   0.0   1.0           1.0            60.0  \n",
       "...           ...         ...   ...   ...           ...             ...  \n",
       "2255195  1.069000   39.797855   NaN   0.0           NaN             7.0  \n",
       "2255196  1.105000   56.812378   NaN   0.0           NaN             3.0  \n",
       "2255197  1.060000   41.721278   NaN   0.0           NaN             4.0  \n",
       "2255198  1.111000  103.722924   NaN   0.0           NaN             4.0  \n",
       "2255199  1.052000   36.684279   NaN   0.0           NaN             2.0  \n",
       "\n",
       "[2255200 rows x 19 columns]"
      ]
     },
     "execution_count": 612,
     "metadata": {},
     "output_type": "execute_result"
    }
   ],
   "source": [
    "agent_vars_df_list = []\n",
    "for file in os.listdir(\"results/\"):\n",
    "    if file.startswith(\"agent\"):\n",
    "        print(file)\n",
    "        df = pd.read_csv(\"results/\" + file)\n",
    "        agent_vars_df_list.append(df)\n",
    "\n",
    "agent_vars_df_list[0]"
   ]
  },
  {
   "cell_type": "markdown",
   "id": "0cc191c5-eee8-4653-835d-30890396da4f",
   "metadata": {},
   "source": [
    "### SANITY CHECKS"
   ]
  },
  {
   "cell_type": "code",
   "execution_count": 614,
   "id": "8c031974",
   "metadata": {},
   "outputs": [
    {
     "ename": "TypeError",
     "evalue": "list indices must be integers or slices, not str",
     "output_type": "error",
     "traceback": [
      "\u001b[0;31m---------------------------------------------------------------------------\u001b[0m",
      "\u001b[0;31mTypeError\u001b[0m                                 Traceback (most recent call last)",
      "Cell \u001b[0;32mIn[614], line 3\u001b[0m\n\u001b[1;32m      1\u001b[0m \u001b[38;5;28;01mfor\u001b[39;00m i \u001b[38;5;129;01min\u001b[39;00m \u001b[38;5;28mrange\u001b[39m(\u001b[38;5;241m0\u001b[39m, \u001b[38;5;28mlen\u001b[39m(agent_vars_df_list)):\n\u001b[0;32m----> 3\u001b[0m     sns\u001b[38;5;241m.\u001b[39mlineplot( data \u001b[38;5;241m=\u001b[39m agent_vars_df_list[i]\u001b[38;5;241m.\u001b[39mloc[\u001b[43magent_vars_df_list\u001b[49m\u001b[43m[\u001b[49m\u001b[38;5;124;43m\"\u001b[39;49m\u001b[38;5;124;43mType\u001b[39;49m\u001b[38;5;124;43m\"\u001b[39;49m\u001b[43m]\u001b[49m \u001b[38;5;241m!=\u001b[39m \u001b[38;5;124m\"\u001b[39m\u001b[38;5;124m<class \u001b[39m\u001b[38;5;124m'\u001b[39m\u001b[38;5;124mCRAB_agents.Household\u001b[39m\u001b[38;5;124m'\u001b[39m\u001b[38;5;124m>\u001b[39m\u001b[38;5;124m\"\u001b[39m], x \u001b[38;5;241m=\u001b[39m \u001b[38;5;124m'\u001b[39m\u001b[38;5;124mStep\u001b[39m\u001b[38;5;124m'\u001b[39m, y \u001b[38;5;241m=\u001b[39m \u001b[38;5;124m'\u001b[39m\u001b[38;5;124mNet worth\u001b[39m\u001b[38;5;124m'\u001b[39m, hue\u001b[38;5;241m=\u001b[39m \u001b[38;5;124m'\u001b[39m\u001b[38;5;124mType\u001b[39m\u001b[38;5;124m'\u001b[39m, legend \u001b[38;5;241m=\u001b[39m \u001b[38;5;28;01mFalse\u001b[39;00m,  estimator\u001b[38;5;241m=\u001b[39m\u001b[38;5;28msum\u001b[39m)\u001b[38;5;66;03m#pl\u001b[39;00m\n\u001b[1;32m      4\u001b[0m     plt\u001b[38;5;241m.\u001b[39mshow()\n",
      "\u001b[0;31mTypeError\u001b[0m: list indices must be integers or slices, not str"
     ]
    }
   ],
   "source": [
    "for df in agent_vars_df_list:\n",
    "\n",
    "    sns.lineplot( data = df.loc[df[\"Type\"] != \"<class 'CRAB_agents.Household'>\"], x = 'Step', y = 'Net worth', hue= 'Type', legend = False,  estimator=sum)#pl\n",
    "    plt.show()"
   ]
  },
  {
   "cell_type": "code",
   "execution_count": null,
   "id": "46b05d03",
   "metadata": {},
   "outputs": [],
   "source": [
    "\n",
    "sns.lineplot( data = agent_vars_df_list[0], x = 'Step', y = 'Inventories',  estimator='sum', legend = True)\n",
    "\n",
    "plt.show()"
   ]
  },
  {
   "cell_type": "markdown",
   "id": "54212959-a5df-48d2-877c-f2d5a151fa92",
   "metadata": {
    "jp-MarkdownHeadingCollapsed": true
   },
   "source": [
    "#### N FIRMS"
   ]
  },
  {
   "cell_type": "code",
   "execution_count": null,
   "id": "acb81221",
   "metadata": {},
   "outputs": [],
   "source": [
    "agent_vars_df_list[0]['Type'].unique()"
   ]
  },
  {
   "cell_type": "code",
   "execution_count": null,
   "id": "32b1a223-d927-463c-abdf-b1a752bb680a",
   "metadata": {
    "collapsed": true,
    "jupyter": {
     "outputs_hidden": true,
     "source_hidden": true
    }
   },
   "outputs": [],
   "source": [
    "# Plot number of firms per sector\n",
    "plot_all_runs(model_vars_df_list, \"n_cap_firms\", color=\"tab:blue\")\n",
    "plot_all_runs(model_vars_df_list, \"n_agr_firms\", color=\"tab:orange\")\n",
    "plot_all_runs(model_vars_df_list, \"n_ind_firms\", color=\"tab:green\")\n",
    "plot_all_runs(model_vars_df_list, \"n_cons_firms\", color=\"tab:red\")\n",
    "plot_all_runs(model_vars_df_list, \"n_trans_firms\", color=\"tab:purple\")\n",
    "plot_all_runs(model_vars_df_list, \"n_inf_firms\", color=\"tab:brown\")\n",
    "plot_all_runs(model_vars_df_list, \"n_fin_firms\", color=\"black\")\n",
    "plot_all_runs(model_vars_df_list, \"n_rec_firms\", color=\"tab:olive\")\n",
    "\n",
    "\n",
    "plt.ylabel(\"N firms\")\n",
    "plt.show()"
   ]
  },
  {
   "cell_type": "markdown",
   "id": "75b180a3-ba7b-4527-a91d-ec81cb1a6ecc",
   "metadata": {},
   "source": [
    "#### CONSUMPTION AND DEMAND"
   ]
  },
  {
   "cell_type": "code",
   "execution_count": null,
   "id": "5c098ee4-23b9-4577-bcb0-32fe2fc32b91",
   "metadata": {},
   "outputs": [],
   "source": [
    "# Plot ratio regional:export demand\n",
    "plot_all_runs(model_vars_df_list, \"Regional demand\", color=\"tab:blue\")\n",
    "plot_all_runs(model_vars_df_list, \"Export demand\", color=\"tab:orange\")\n",
    "\n",
    "plt.ylabel(\"Demand\")\n",
    "plt.show()"
   ]
  },
  {
   "cell_type": "code",
   "execution_count": null,
   "id": "4ce6be39-b507-4e84-90f6-f162a721aaac",
   "metadata": {
    "collapsed": true,
    "jupyter": {
     "outputs_hidden": true,
     "source_hidden": true
    }
   },
   "outputs": [],
   "source": [
    "# Check HH consumption equals regional demand\n",
    "plot_difference(model_vars_df_list, \"Regional demand\", \"HH consumption\")\n",
    "plt.show()"
   ]
  },
  {
   "cell_type": "markdown",
   "id": "f0f51ceb",
   "metadata": {},
   "source": [
    "#####  CAPITAL ORDERS"
   ]
  },
  {
   "cell_type": "code",
   "execution_count": null,
   "id": "f3eb1da3",
   "metadata": {},
   "outputs": [],
   "source": [
    "plot_total_per_type(agent_vars_df_list, 'Firm', \"Inventories\")\n",
    "plt.show()"
   ]
  },
  {
   "cell_type": "markdown",
   "id": "83bdb1d4-90dc-4aae-af61-74edf22c4633",
   "metadata": {},
   "source": [
    "#### REAL DEMAND"
   ]
  },
  {
   "cell_type": "code",
   "execution_count": null,
   "id": "73d187db",
   "metadata": {},
   "outputs": [],
   "source": [
    "agent_vars_df_list[0]"
   ]
  },
  {
   "cell_type": "code",
   "execution_count": null,
   "id": "1ee47510",
   "metadata": {},
   "outputs": [],
   "source": [
    "# unique types\n",
    "agent_vars_df_list[0][\"Type\"].unique()"
   ]
  },
  {
   "cell_type": "code",
   "execution_count": null,
   "id": "5d955ab9",
   "metadata": {},
   "outputs": [],
   "source": [
    "# group by type and step  and  sum market share\n",
    "agent_vars_df_list[0].groupby([\"Type\"])[\"Market share\"].sum()\n"
   ]
  },
  {
   "cell_type": "code",
   "execution_count": null,
   "id": "0f9739a6",
   "metadata": {},
   "outputs": [],
   "source": [
    "\n",
    "    # keep only Type !=      \"<class 'CRAB_agents.Household'>\", \"<class 'government.Government'>\"\n",
    "agent_vars_df_list[0] = agent_vars_df_list[0][agent_vars_df_list[0][\"Type\"] != \"<class 'CRAB_agents.Household'>\"]\n",
    "agent_vars_df_list[0] = agent_vars_df_list[0][agent_vars_df_list[0][\"Type\"] != \"<class 'government.Government'>\"]\n",
    "sns.lineplot( data = agent_vars_df_list[0], x = 'Step', y = 'Market share', hue = 'Type', legend = True,  estimator=sum)\n",
    "    # can you plot the hue name next to the line?\n",
    "plt.show()"
   ]
  },
  {
   "cell_type": "code",
   "execution_count": null,
   "id": "8c0ee247",
   "metadata": {},
   "outputs": [],
   "source": [
    "for i in range(len(agent_vars_df_list)):\n",
    "    agent_vars_df_list[i]['Demand'] = agent_vars_df_list[i]['Price'] * agent_vars_df_list[i]['Real demand']\n",
    "    sns.lineplot( data = agent_vars_df_list[i], x = 'Step', y = 'Demand', legend = False,  estimator=sum, color = 'blue')\n",
    "    sns.lineplot( data = model_vars_df_list[i], x = model_vars_df_list[i].index, y = 'HH consumption', legend = False,  estimator=sum, color = 'red')\n",
    "plt.tight_layout()\n",
    "plt.show()"
   ]
  },
  {
   "cell_type": "code",
   "execution_count": null,
   "id": "20814e87",
   "metadata": {},
   "outputs": [],
   "source": [
    "model_vars_df_list[i]"
   ]
  },
  {
   "cell_type": "code",
   "execution_count": null,
   "id": "b9e0539d",
   "metadata": {},
   "outputs": [],
   "source": [
    "agent_types = agent_vars_df_list[0][\"Type\"].unique()\n",
    "colors = sns.color_palette(\"colorblind\", len(agent_types))\n",
    "# Plot average demand per sector\n",
    "for i, agent_type in enumerate(agent_types):\n",
    "    plot_total_per_type(agent_vars_df_list, agent_type, 'Demand', color=colors[i], legend=legend)\n",
    "plt.tight_layout()\n",
    "plt.show()"
   ]
  },
  {
   "cell_type": "code",
   "execution_count": null,
   "id": "5437ce9a-c562-443c-92bf-20f948c33cbf",
   "metadata": {},
   "outputs": [],
   "source": [
    "agent_types = agent_vars_df_list[0][\"Type\"].unique()\n",
    "colors = sns.color_palette(\"colorblind\", len(agent_types))\n",
    "# Plot average demand per sector\n",
    "for i, agent_type in enumerate(agent_types):\n",
    "    legend = True if i == 0 else False\n",
    "    plot_avg_per_type(agent_vars_df_list, agent_type, \"Real demand\", color=colors[i], legend=legend)\n",
    "\n",
    "plt.tight_layout\n",
    "plt.show()\n",
    "\n",
    "for i, agent_type in enumerate(agent_types):\n",
    "    legend = True if i == 0 else False\n",
    "    plot_total_per_type(agent_vars_df_list, agent_type, \"Real demand\", color=colors[i], legend=legend)\n",
    "plt.tight_layout()\n",
    "plt.show()"
   ]
  },
  {
   "cell_type": "code",
   "execution_count": null,
   "id": "2e197cf3",
   "metadata": {},
   "outputs": [],
   "source": []
  },
  {
   "cell_type": "markdown",
   "id": "bc8c44e2-8e97-43c1-8d01-2e2e29e4f6e3",
   "metadata": {},
   "source": [
    "#### LABOR"
   ]
  },
  {
   "cell_type": "markdown",
   "id": "d91c003b-fae5-436d-ba03-29bb78cc6358",
   "metadata": {},
   "source": [
    "##### UNEMPLOYMENT RATE"
   ]
  },
  {
   "cell_type": "code",
   "execution_count": null,
   "id": "2579c5f7-8cfd-4919-9ee9-8645e0963d3a",
   "metadata": {},
   "outputs": [],
   "source": [
    "# Unemployment rate should vary between min 2-3 and max 10-15 percent\n",
    "n_steps = len(model_vars_df_list[0])\n",
    "plot_all_runs(model_vars_df_list, \"Unemployment rate\")\n",
    "plt.hlines(y=0.02, xmin=0, xmax=n_steps, color=\"grey\", linestyle=\"--\", linewidth=1)\n",
    "plt.hlines(y=0.15, xmin=0, xmax=n_steps, color=\"grey\", linestyle=\"--\", linewidth=1)\n",
    "plt.show()"
   ]
  },
  {
   "cell_type": "markdown",
   "id": "1b1c3da3-6741-4447-86f8-6bfa503ece00",
   "metadata": {},
   "source": [
    "##### LABOR DEMAND"
   ]
  },
  {
   "cell_type": "code",
   "execution_count": null,
   "id": "5430a755",
   "metadata": {},
   "outputs": [],
   "source": [
    "sns.lineplot(data = agent_vars_df_list[0], x = 'Step', y = 'Labor demand', legend = False,  estimator=sum)"
   ]
  },
  {
   "cell_type": "code",
   "execution_count": null,
   "id": "033f974d-49da-4a88-b132-32b8c8406831",
   "metadata": {},
   "outputs": [],
   "source": [
    "# Plot average labor demand per sector\n",
    "for i, agent_type in enumerate(agent_types):\n",
    "    legend = True if i == 0 else False\n",
    "    plot_avg_per_type(agent_vars_df_list, agent_type, \"Labor demand\", color=colors[i], legend=legend)\n",
    "\n",
    "plt.tight_layout\n",
    "plt.show()\n",
    "\n",
    "# Plot total labor demand per sector\n",
    "for i, agent_type in enumerate(agent_types):\n",
    "    legend = True if i == 0 else False\n",
    "    plot_total_per_type(agent_vars_df_list, agent_type, \"Labor demand\", color=colors[i], legend=legend)\n",
    "plt.tight_layout()\n",
    "plt.show()"
   ]
  },
  {
   "cell_type": "markdown",
   "id": "555e0778-f44e-413e-bb41-2dde18497a9e",
   "metadata": {},
   "source": [
    "##### Additional labor demand"
   ]
  },
  {
   "cell_type": "code",
   "execution_count": null,
   "id": "1d55ef4f-32a6-4540-bbcd-7d0eaf3c0088",
   "metadata": {},
   "outputs": [],
   "source": [
    "# Plot average labor demand per sector\n",
    "for df in agent_vars_df_list:\n",
    "    df[\"Additional labor demand\"] = df[\"Size\"] - df[\"Labor demand\"]\n",
    "plot_avg_per_type(agent_vars_df_list, agent_type=\"<class 'CRAB_agents.CapitalFirm'>\", var=\"Additional labor demand\", color=\"tab:blue\")\n",
    "plot_avg_per_type(agent_vars_df_list, agent_type=\"<class 'CRAB_agents.ConsumptionGoodFirm'>\", var=\"Additional labor demand\", color=\"tab:orange\")\n",
    "plot_avg_per_type(agent_vars_df_list, agent_type=\"<class 'CRAB_agents.ServiceFirm'>\", var=\"Additional labor demand\", color=\"tab:green\")\n",
    "plt.show()"
   ]
  },
  {
   "cell_type": "markdown",
   "id": "7a659b20-10d2-41f3-88b1-f860f21195cd",
   "metadata": {},
   "source": [
    "##### SIZE"
   ]
  },
  {
   "cell_type": "code",
   "execution_count": null,
   "id": "e106e36e-94a2-48cb-85af-09fecfde8f73",
   "metadata": {},
   "outputs": [],
   "source": [
    "# Plot size (n employers) for all firms (average)\n",
    "plot_avg_per_type(agent_vars_df_list, agent_type=\"<class 'CRAB_agents.CapitalFirm'>\", var=\"Size\", color=\"tab:blue\")\n",
    "plot_avg_per_type(agent_vars_df_list, agent_type=\"<class 'CRAB_agents.ConsumptionGoodFirm'>\", var=\"Size\", color=\"tab:orange\")\n",
    "plot_avg_per_type(agent_vars_df_list, agent_type=\"<class 'CRAB_agents.ServiceFirm'>\", var=\"Size\", color=\"tab:green\")\n",
    "plt.show()\n",
    "\n",
    "# Plot size (n employers) for all firms (total)\n",
    "plot_total_per_type(agent_vars_df_list, agent_type=\"<class 'CRAB_agents.CapitalFirm'>\", var=\"Size\", color=\"tab:blue\")\n",
    "plot_total_per_type(agent_vars_df_list, agent_type=\"<class 'CRAB_agents.ConsumptionGoodFirm'>\", var=\"Size\", color=\"tab:orange\")\n",
    "plot_total_per_type(agent_vars_df_list, agent_type=\"<class 'CRAB_agents.ServiceFirm'>\", var=\"Size\", color=\"tab:green\")\n",
    "plt.show()"
   ]
  },
  {
   "cell_type": "code",
   "execution_count": null,
   "id": "160ee904",
   "metadata": {},
   "outputs": [],
   "source": [
    "agent_vars_df_list[0]"
   ]
  },
  {
   "cell_type": "code",
   "execution_count": null,
   "id": "ff1c43b9",
   "metadata": {},
   "outputs": [],
   "source": [
    "import seaborn as sns"
   ]
  },
  {
   "cell_type": "code",
   "execution_count": null,
   "id": "a727ac73",
   "metadata": {},
   "outputs": [],
   "source": [
    "df = agent_vars_df_list[0]"
   ]
  },
  {
   "cell_type": "code",
   "execution_count": null,
   "id": "5a51d252",
   "metadata": {},
   "outputs": [],
   "source": [
    "df"
   ]
  },
  {
   "cell_type": "code",
   "execution_count": null,
   "id": "84eb46e0",
   "metadata": {},
   "outputs": [],
   "source": [
    "sns.lineplot( data=df, x='Step', y=\"Feasible production\", color = 'blue', estimator=sum)\n",
    "sns.lineplot( data=df, x='Step', y=\"Production made\", color = 'red', estimator=sum)\n",
    "plt.tight_layout()\n",
    "plt.show()"
   ]
  },
  {
   "cell_type": "code",
   "execution_count": null,
   "id": "4d51fb35",
   "metadata": {},
   "outputs": [],
   "source": [
    "\n",
    "\n",
    "df = agent_vars_df_list[0]\n",
    "sns.lineplot( data=df, x='Step', y=\"Price\", hue=\"Type\")\n",
    "\n",
    "plt.tight_layout()\n",
    "plt.show()"
   ]
  },
  {
   "cell_type": "code",
   "execution_count": null,
   "id": "7f13db72",
   "metadata": {},
   "outputs": [],
   "source": [
    "for i in range(len(agent_vars_df_list)):\n",
    "    df = agent_vars_df_list[i]\n",
    "    # keep  type != <class 'CRAB_agents.Household'>\n",
    "    df = df[df[\"Type\"] != \"<class 'CRAB_agents.Household'>\"]\n",
    "    # sample 100 rows\n",
    "    id_list = df[\"AgentID\"].unique()\n",
    "    # sample 20 id\n",
    "    id_list = np.random.choice(id_list, 20)\n",
    "    # keep only the sampled is \n",
    "    df_sample = df[df[\"AgentID\"].isin(id_list)]\n",
    "\n",
    "    sns.lineplot( data=df_sample, x='Step', y=\"Real demand\", hue=\"AgentID\")\n",
    "\n",
    "plt.tight_layout()\n",
    "plt.show()\n"
   ]
  },
  {
   "cell_type": "code",
   "execution_count": null,
   "id": "46bab702",
   "metadata": {},
   "outputs": [],
   "source": [
    "df_sample"
   ]
  },
  {
   "cell_type": "code",
   "execution_count": null,
   "id": "cf3d9bcf",
   "metadata": {},
   "outputs": [],
   "source": [
    "agent_vars_df_list[0]"
   ]
  },
  {
   "cell_type": "code",
   "execution_count": null,
   "id": "546f98c7",
   "metadata": {},
   "outputs": [],
   "source": [
    "import seaborn as sns\n",
    "steps_to_check = [10, 30, 60, 100]\n",
    "fig, axs = plt.subplots(1, 2, figsize=(12, 6))\n",
    "\n",
    "for i in range(len(agent_vars_df_list)):\n",
    "    df = agent_vars_df_list[i]\n",
    "\n",
    "    # keep only firms at the specified steps\n",
    "    df_step = df[df[\"Step\"].isin(steps_to_check)]\n",
    "\n",
    "    # Plot histogram of the size of firms\n",
    "    sns.histplot(data=df_step, x=\"Size\", hue=\"Step\", bins=50, alpha=0.5, ax=axs[0], legend=True)\n",
    "\n",
    "    axs[0].set_xlabel(\"Size\")\n",
    "    axs[0].set_ylabel(\"Frequency\")\n",
    "\n",
    "\n",
    "    # Plot histogram of market share\n",
    "    sns.histplot(data=df_step, x=\"Market share\", hue=\"Step\", bins=50, alpha=0.5, ax=axs[1], legend=True)\n",
    "\n",
    "    axs[1].set_xlabel(\"Market share\")\n",
    "    axs[1].set_ylabel(\"Frequency\")\n",
    "\n",
    "\n",
    "    plt.tight_layout()\n",
    "    plt.show()\n"
   ]
  },
  {
   "cell_type": "code",
   "execution_count": null,
   "id": "f25229e4-ea64-40da-98c9-2d96084fec85",
   "metadata": {
    "collapsed": true,
    "jupyter": {
     "outputs_hidden": true,
     "source_hidden": true
    }
   },
   "outputs": [],
   "source": [
    "# Plot distribution of firms sizes at end of simulation\n",
    "for i in range(len(agent_vars_df_list)):\n",
    "    df = agent_vars_df_list[i]\n",
    "    df = df[(df[\"Type\"] == \"<class 'CRAB_agents.CapitalFirm'>\")\n",
    "            | (df[\"Type\"] == \"<class 'CRAB_agents.ConsumptionGoodFirm'>\")\n",
    "            | (df[\"Type\"] == \"<class 'CRAB_agents.ServiceFirm'>\")\n",
    "           ]\n",
    "    df[df[\"Step\"] == max(df[\"Step\"])].hist(\"Size\", by=\"Type\", bins=50)\n",
    "    plt.tight_layout()\n",
    "    plt.show()"
   ]
  },
  {
   "cell_type": "markdown",
   "id": "c9828afe-3407-4db0-a312-1a9ed3490b68",
   "metadata": {
    "jp-MarkdownHeadingCollapsed": true
   },
   "source": [
    "#### MIN and AVERAGE WAGE"
   ]
  },
  {
   "cell_type": "code",
   "execution_count": null,
   "id": "d74fb0b3-9ef8-4269-a1f4-93559a12ab98",
   "metadata": {
    "collapsed": true,
    "jupyter": {
     "outputs_hidden": true
    }
   },
   "outputs": [],
   "source": [
    "# Plot average wage\n",
    "plot_avg_per_type(agent_vars_df_list, agent_type=\"<class 'CRAB_agents.CapitalFirm'>\", var=\"Wage\", color=\"tab:blue\")\n",
    "plot_avg_per_type(agent_vars_df_list, agent_type=\"<class 'CRAB_agents.ConsumptionGoodFirm'>\", var=\"Wage\", color=\"tab:orange\")\n",
    "plot_avg_per_type(agent_vars_df_list, agent_type=\"<class 'CRAB_agents.ServiceFirm'>\", var=\"Wage\", color=\"tab:green\")\n",
    "plt.show()\n",
    "\n",
    "plot_all_runs(model_vars_df_list, \"Avg wage\")\n",
    "plt.show()\n",
    "\n",
    "model_vars_df_list[0]"
   ]
  },
  {
   "cell_type": "code",
   "execution_count": null,
   "id": "c9db1d1c-ad42-4e62-8f40-a916bfb70af4",
   "metadata": {
    "collapsed": true,
    "jupyter": {
     "outputs_hidden": true
    }
   },
   "outputs": [],
   "source": [
    "# Plot minimum wage\n",
    "plot_all_runs(model_vars_df_list, \"Min wage\", color=\"tab:blue\")\n",
    "plt.show()"
   ]
  },
  {
   "cell_type": "markdown",
   "id": "e9e0823a-9a00-4014-8ab4-ae3a4cbafb36",
   "metadata": {
    "collapsed": true,
    "jp-MarkdownHeadingCollapsed": true,
    "jupyter": {
     "outputs_hidden": true
    }
   },
   "source": [
    "#### PRICES"
   ]
  },
  {
   "cell_type": "code",
   "execution_count": null,
   "id": "588598f5-282d-40c9-a6ce-419d82c416a7",
   "metadata": {
    "collapsed": true,
    "jupyter": {
     "outputs_hidden": true
    }
   },
   "outputs": [],
   "source": [
    "# Plot average prices per sector\n",
    "plot_avg_per_type(agent_vars_df_list, agent_type=\"<class 'CRAB_agents.CapitalFirm'>\", var=\"Price\", color=\"tab:blue\")\n",
    "plot_avg_per_type(agent_vars_df_list, agent_type=\"<class 'CRAB_agents.ConsumptionGoodFirm'>\", var=\"Price\", color=\"tab:orange\")\n",
    "plot_avg_per_type(agent_vars_df_list, agent_type=\"<class 'CRAB_agents.ServiceFirm'>\", var=\"Price\", color=\"tab:green\")\n",
    "plt.show()"
   ]
  },
  {
   "cell_type": "markdown",
   "id": "9c194ea8-1d28-42cb-a990-3d1403b63eee",
   "metadata": {
    "jp-MarkdownHeadingCollapsed": true
   },
   "source": [
    "#### MARKET SHARES"
   ]
  },
  {
   "cell_type": "code",
   "execution_count": null,
   "id": "244746dd-4a16-4ca7-bfb0-c4aec1ffe37b",
   "metadata": {
    "collapsed": true,
    "jupyter": {
     "outputs_hidden": true,
     "source_hidden": true
    }
   },
   "outputs": [],
   "source": [
    "# Plot average market share per sector\n",
    "plot_avg_per_type(agent_vars_df_list, agent_type=\"<class 'CRAB_agents.CapitalFirm'>\", var=\"Market share\", color=\"tab:blue\")\n",
    "plot_avg_per_type(agent_vars_df_list, agent_type=\"<class 'CRAB_agents.ConsumptionGoodFirm'>\", var=\"Market share\", color=\"tab:orange\")\n",
    "plot_avg_per_type(agent_vars_df_list, agent_type=\"<class 'CRAB_agents.ServiceFirm'>\", var=\"Market share\", color=\"tab:green\")\n",
    "plt.show()"
   ]
  },
  {
   "cell_type": "markdown",
   "id": "db8f1834-6d62-4f61-81a2-106429f1cad0",
   "metadata": {},
   "source": [
    "#### NET WORTH"
   ]
  },
  {
   "cell_type": "code",
   "execution_count": null,
   "id": "3c057647-9ae4-42b6-8e2f-b34c37d6be82",
   "metadata": {},
   "outputs": [],
   "source": [
    "# Plot average net worth per sector\n",
    "plot_avg_per_type(agent_vars_df_list, agent_type=\"<class 'CRAB_agents.CapitalFirm'>\", var=\"Net worth\", color=\"tab:blue\")\n",
    "plot_avg_per_type(agent_vars_df_list, agent_type=\"<class 'CRAB_agents.ConsumptionGoodFirm'>\", var=\"Net worth\", color=\"tab:orange\")\n",
    "plot_avg_per_type(agent_vars_df_list, agent_type=\"<class 'CRAB_agents.ServiceFirm'>\", var=\"Net worth\", color=\"tab:green\")\n",
    "plt.show()"
   ]
  },
  {
   "cell_type": "markdown",
   "id": "f9a1e802-64a7-47e1-8d30-b952dcd26db1",
   "metadata": {
    "jp-MarkdownHeadingCollapsed": true
   },
   "source": [
    "#### PRODUCTIVITY and WAGES"
   ]
  },
  {
   "cell_type": "code",
   "execution_count": null,
   "id": "2e491865-b1a2-4f3f-b8b2-841d62a96ed7",
   "metadata": {
    "collapsed": true,
    "jupyter": {
     "outputs_hidden": true,
     "source_hidden": true
    }
   },
   "outputs": [],
   "source": [
    "# Plot average ratio productivity : wage per sector\n",
    "for df in agent_vars_df_list:\n",
    "    df[\"Prod/wage\"] = df[\"Prod\"]/df[\"Wage\"]\n",
    "    # Plot average labor demand per sector\n",
    "for i, agent_type in enumerate(agent_types):\n",
    "    legend = True if i == 0 else False\n",
    "    plot_avg_per_type(agent_vars_df_list, agent_type, \"Prod/wage\", color=colors[i], legend=legend)\n",
    "\n",
    "plt.tight_layout\n",
    "plt.show()\n",
    "\n"
   ]
  },
  {
   "cell_type": "code",
   "execution_count": null,
   "id": "a32f4a58-fed3-401c-9c62-b00b1513ad7a",
   "metadata": {
    "collapsed": true,
    "jupyter": {
     "outputs_hidden": true,
     "source_hidden": true
    }
   },
   "outputs": [],
   "source": [
    "# Plot average productivity per sector\n",
    "plot_avg_per_type(agent_vars_df_list, agent_type=\"<class 'CRAB_agents.CapitalFirm'>\", var=\"Prod\", color=\"tab:blue\")\n",
    "plot_avg_per_type(agent_vars_df_list, agent_type=\"<class 'CRAB_agents.ConsumptionGoodFirm'>\", var=\"Prod\", color=\"tab:orange\")\n",
    "plot_avg_per_type(agent_vars_df_list, agent_type=\"<class 'CRAB_agents.ServiceFirm'>\", var=\"Prod\", color=\"tab:green\")\n",
    "plt.show()"
   ]
  },
  {
   "cell_type": "code",
   "execution_count": null,
   "id": "69879f24-5d7d-4aa6-aff7-952beaa1f62c",
   "metadata": {
    "collapsed": true,
    "jupyter": {
     "outputs_hidden": true,
     "source_hidden": true
    }
   },
   "outputs": [],
   "source": [
    "# Plot wages\n",
    "plot_avg_per_type(agent_vars_df_list, agent_type=\"<class 'CRAB_agents.CapitalFirm'>\", var=\"Wage\", color=\"tab:blue\")\n",
    "plot_avg_per_type(agent_vars_df_list, agent_type=\"<class 'CRAB_agents.ConsumptionGoodFirm'>\", var=\"Wage\", color=\"tab:orange\")\n",
    "plot_avg_per_type(agent_vars_df_list, agent_type=\"<class 'CRAB_agents.ServiceFirm'>\", var=\"Wage\", color=\"tab:green\")\n",
    "plt.show()"
   ]
  },
  {
   "cell_type": "markdown",
   "id": "acf26832-c8be-44e5-8138-b740a3705ba2",
   "metadata": {},
   "source": [
    "#### Inventories"
   ]
  },
  {
   "cell_type": "code",
   "execution_count": null,
   "id": "25508551-9479-4b3d-a351-1f66f5f88bc0",
   "metadata": {},
   "outputs": [],
   "source": [
    "# Plot inventory level\n",
    "plot_avg_per_type(agent_vars_df_list, agent_type=\"<class 'CRAB_agents.CapitalFirm'>\", var=\"Inventories\", color=\"tab:blue\")\n",
    "plot_avg_per_type(agent_vars_df_list, agent_type=\"<class 'CRAB_agents.ConsumptionGoodFirm'>\", var=\"Inventories\", color=\"tab:orange\")\n",
    "plot_avg_per_type(agent_vars_df_list, agent_type=\"<class 'CRAB_agents.ServiceFirm'>\", var=\"Inventories\", color=\"tab:green\")\n",
    "plt.show()\n",
    "\n",
    "# plot_total_per_type(agent_vars_df_list, agent_type=\"<class 'CRAB_agents.CapitalFirm'>\", var=\"Inventories\", color=\"tab:blue\")\n",
    "# plot_total_per_type(agent_vars_df_list, agent_type=\"<class 'CRAB_agents.ConsumptionGoodFirm'>\", var=\"Inventories\", color=\"tab:orange\")\n",
    "# plot_total_per_type(agent_vars_df_list, agent_type=\"<class 'CRAB_agents.ServiceFirm'>\", var=\"Inventories\", color=\"tab:green\")\n",
    "# plt.show()"
   ]
  },
  {
   "cell_type": "markdown",
   "id": "100a3546-c4f3-4d18-a61d-4f47bf4dad36",
   "metadata": {},
   "source": [
    "##### Production made"
   ]
  },
  {
   "cell_type": "code",
   "execution_count": null,
   "id": "643067ce-a90a-4836-a13e-63a3c6aec733",
   "metadata": {},
   "outputs": [],
   "source": [
    "# Plot production made\n",
    "plot_avg_per_type(agent_vars_df_list, agent_type=\"<class 'CRAB_agents.CapitalFirm'>\", var=\"Production made\", color=\"tab:blue\")\n",
    "plot_avg_per_type(agent_vars_df_list, agent_type=\"<class 'CRAB_agents.ConsumptionGoodFirm'>\", var=\"Production made\", color=\"tab:orange\")\n",
    "plot_avg_per_type(agent_vars_df_list, agent_type=\"<class 'CRAB_agents.ServiceFirm'>\", var=\"Production made\", color=\"tab:green\")\n",
    "plt.show()\n",
    "\n",
    "plot_total_per_type(agent_vars_df_list, agent_type=\"<class 'CRAB_agents.CapitalFirm'>\", var=\"Production made\", color=\"tab:blue\")\n",
    "plot_total_per_type(agent_vars_df_list, agent_type=\"<class 'CRAB_agents.ConsumptionGoodFirm'>\", var=\"Production made\", color=\"tab:orange\")\n",
    "plot_total_per_type(agent_vars_df_list, agent_type=\"<class 'CRAB_agents.ServiceFirm'>\", var=\"Production made\", color=\"tab:green\")\n",
    "plt.show()"
   ]
  },
  {
   "cell_type": "markdown",
   "id": "dd3ab0e5-f2b4-49c2-8090-3fbe44a15fe4",
   "metadata": {},
   "source": [
    "##### Excess production"
   ]
  },
  {
   "cell_type": "code",
   "execution_count": null,
   "id": "61844049",
   "metadata": {},
   "outputs": [],
   "source": [
    "\n",
    "sns.lineplot( data = agent_vars_df_list[0], x = 'Step', y = 'Production made', legend=True)\n",
    "sns.lineplot( data = agent_vars_df_list[0], x = 'Step', y = 'Real demand', legend=True, color='red')\n",
    "\n",
    "plt.tight_layout()\n",
    "plt.show()"
   ]
  },
  {
   "cell_type": "code",
   "execution_count": null,
   "id": "dd6780bb",
   "metadata": {},
   "outputs": [],
   "source": [
    "# Plot excess production (production made - real demand)\n",
    "for df in agent_vars_df_list:\n",
    "    df[\"Excess production\"] = df[\"Production made\"] - df[\"Real demand\"]\n",
    "sns.lineplot( data=df, x='Step', y=\"Excess production\", hue=\"Type\")"
   ]
  },
  {
   "cell_type": "code",
   "execution_count": null,
   "id": "e198d1c1-1088-4867-801a-2c08db64dbf8",
   "metadata": {},
   "outputs": [],
   "source": [
    "# Plot excess production (production made - real demand)\n",
    "for df in agent_vars_df_list:\n",
    "    df[\"Excess production\"] = df[\"Production made\"] - df[\"Real demand\"]\n",
    "# plot_avg_per_type(agent_vars_df_list, agent_type=\"<class 'CRAB_agents.CapitalFirm'>\", var=\"Excess production\", color=\"tab:blue\")\n",
    "plot_avg_per_type(agent_vars_df_list, agent_type=\"<class 'CRAB_agents.ConsumptionGoodFirm'>\", var=\"Excess production\", color=\"tab:orange\")\n",
    "plot_avg_per_type(agent_vars_df_list, agent_type=\"<class 'CRAB_agents.ServiceFirm'>\", var=\"Excess production\", color=\"tab:green\")\n",
    "plt.show()\n",
    "\n",
    "# plot_total_per_type(agent_vars_df_list, agent_type=\"<class 'CRAB_agents.CapitalFirm'>\", var=\"Excess production\", color=\"tab:blue\")\n",
    "plot_total_per_type(agent_vars_df_list, agent_type=\"<class 'CRAB_agents.ConsumptionGoodFirm'>\", var=\"Excess production\", color=\"tab:orange\")\n",
    "plot_total_per_type(agent_vars_df_list, agent_type=\"<class 'CRAB_agents.ServiceFirm'>\", var=\"Excess production\", color=\"tab:green\")\n",
    "plt.show()\n",
    "\n",
    "for df in agent_vars_df_list:\n",
    "    df[df[\"Excess production\"] < 0] = 0\n",
    "    df[\"Cum excess production\"] = df.groupby(\"Type\")[\"Excess production\"].cumsum()\n",
    "\n",
    "df"
   ]
  },
  {
   "cell_type": "markdown",
   "id": "b8b22fb0-5c2f-4e8e-83a6-e0963835cdd4",
   "metadata": {},
   "source": [
    "#### MACHINES"
   ]
  },
  {
   "cell_type": "markdown",
   "id": "c83adb38-11c7-488b-a7c1-349c2417d4a2",
   "metadata": {},
   "source": [
    "##### Capital (average per sector)"
   ]
  },
  {
   "cell_type": "code",
   "execution_count": null,
   "id": "38c1a8ed-087a-4b73-a958-74efac0f1955",
   "metadata": {
    "collapsed": true,
    "jupyter": {
     "outputs_hidden": true
    }
   },
   "outputs": [],
   "source": [
    "# Plot difference between desired machines and ordered machines (average)\n",
    "plot_avg_per_type(agent_vars_df_list, agent_type=\"<class 'CRAB_agents.CapitalFirm'>\", var=\"Capital amount\", color=\"tab:blue\")\n",
    "plot_avg_per_type(agent_vars_df_list, agent_type=\"<class 'CRAB_agents.ConsumptionGoodFirm'>\", var=\"Capital amount\", color=\"tab:orange\")\n",
    "plot_avg_per_type(agent_vars_df_list, agent_type=\"<class 'CRAB_agents.ServiceFirm'>\", var=\"Capital amount\", color=\"tab:green\")\n",
    "plt.show()\n",
    "\n",
    "# Plot difference between desired machines and ordered machines (sum)\n",
    "plot_total_per_type(agent_vars_df_list, agent_type=\"<class 'CRAB_agents.CapitalFirm'>\", var=\"Capital amount\", color=\"tab:blue\")\n",
    "plot_total_per_type(agent_vars_df_list, agent_type=\"<class 'CRAB_agents.ConsumptionGoodFirm'>\", var=\"Capital amount\", color=\"tab:orange\")\n",
    "plot_total_per_type(agent_vars_df_list, agent_type=\"<class 'CRAB_agents.ServiceFirm'>\", var=\"Capital amount\", color=\"tab:green\")\n",
    "plt.show()"
   ]
  },
  {
   "cell_type": "markdown",
   "id": "84ae431a-64e4-41c5-aed3-202339e958bd",
   "metadata": {},
   "source": [
    "##### Capital demand (average per sector)"
   ]
  },
  {
   "cell_type": "code",
   "execution_count": null,
   "id": "eb406859-2c62-490a-bfba-bbdf9ca23138",
   "metadata": {
    "collapsed": true,
    "jupyter": {
     "outputs_hidden": true
    }
   },
   "outputs": [],
   "source": [
    "# Plot difference between desired machines and ordered machines (average)\n",
    "plot_avg_per_type(agent_vars_df_list, agent_type=\"<class 'CRAB_agents.CapitalFirm'>\", var=\"Capital desired\", color=\"tab:blue\")\n",
    "plot_avg_per_type(agent_vars_df_list, agent_type=\"<class 'CRAB_agents.ConsumptionGoodFirm'>\", var=\"Capital desired\", color=\"tab:orange\")\n",
    "plot_avg_per_type(agent_vars_df_list, agent_type=\"<class 'CRAB_agents.ServiceFirm'>\", var=\"Capital desired\", color=\"tab:green\")\n",
    "plt.show()\n",
    "\n",
    "# Plot difference between desired machines and ordered machines (sum)\n",
    "plot_total_per_type(agent_vars_df_list, agent_type=\"<class 'CRAB_agents.CapitalFirm'>\", var=\"Capital desired\", color=\"tab:blue\")\n",
    "plot_total_per_type(agent_vars_df_list, agent_type=\"<class 'CRAB_agents.ConsumptionGoodFirm'>\", var=\"Capital desired\", color=\"tab:orange\")\n",
    "plot_total_per_type(agent_vars_df_list, agent_type=\"<class 'CRAB_agents.ServiceFirm'>\", var=\"Capital desired\", color=\"tab:green\")\n",
    "plt.show()"
   ]
  },
  {
   "cell_type": "markdown",
   "id": "b570b22d-4bcb-4065-9917-71e880236237",
   "metadata": {},
   "source": [
    "##### Orders per sector"
   ]
  },
  {
   "cell_type": "code",
   "execution_count": null,
   "id": "3cb5d664-b78f-4867-a37e-c6ec95c6a80f",
   "metadata": {
    "collapsed": true,
    "jupyter": {
     "outputs_hidden": true,
     "source_hidden": true
    }
   },
   "outputs": [],
   "source": [
    "# Plot orders per sector (average)\n",
    "plot_avg_per_type(agent_vars_df_list, agent_type=\"<class 'CRAB_agents.CapitalFirm'>\", var=\"Capital ordered\", color=\"tab:blue\")\n",
    "plot_avg_per_type(agent_vars_df_list, agent_type=\"<class 'CRAB_agents.ConsumptionGoodFirm'>\", var=\"Capital ordered\", color=\"tab:orange\")\n",
    "plot_avg_per_type(agent_vars_df_list, agent_type=\"<class 'CRAB_agents.ServiceFirm'>\", var=\"Capital ordered\", color=\"tab:green\")\n",
    "plt.show()\n",
    "\n",
    "# Plot orders per sector (sum)\n",
    "plot_total_per_type(agent_vars_df_list, agent_type=\"<class 'CRAB_agents.CapitalFirm'>\", var=\"Capital ordered\", color=\"tab:blue\")\n",
    "plot_total_per_type(agent_vars_df_list, agent_type=\"<class 'CRAB_agents.ConsumptionGoodFirm'>\", var=\"Capital ordered\", color=\"tab:orange\")\n",
    "plot_total_per_type(agent_vars_df_list, agent_type=\"<class 'CRAB_agents.ServiceFirm'>\", var=\"Capital ordered\", color=\"tab:green\")\n",
    "plt.show()"
   ]
  },
  {
   "cell_type": "markdown",
   "id": "fe077acf-294c-47f6-aae7-4863a104138c",
   "metadata": {},
   "source": [
    "##### Supplier changes"
   ]
  },
  {
   "cell_type": "code",
   "execution_count": null,
   "id": "4136998a-294f-45d1-b642-c96f11096578",
   "metadata": {
    "collapsed": true,
    "jupyter": {
     "outputs_hidden": true,
     "source_hidden": true
    }
   },
   "outputs": [],
   "source": [
    "# Plot number of firms that changed supplier per timestep\n",
    "plot_all_runs(model_vars_df_list, \"Changed supplier cap\", color=\"tab:blue\")\n",
    "plot_all_runs(model_vars_df_list, \"Changed supplier cons\", color=\"tab:orange\")\n",
    "plot_all_runs(model_vars_df_list, \"Changed supplier serv\", color=\"tab:green\")\n",
    "plt.show()"
   ]
  },
  {
   "cell_type": "markdown",
   "id": "e66d0683-b7ad-4e33-b4eb-5121ab91f781",
   "metadata": {},
   "source": [
    "##### Machine end of lifetime"
   ]
  },
  {
   "cell_type": "code",
   "execution_count": null,
   "id": "253d3b88-97d6-4053-bff3-91d34c4bb336",
   "metadata": {
    "collapsed": true,
    "jupyter": {
     "outputs_hidden": true
    }
   },
   "outputs": [],
   "source": [
    "# Plot number of machines died every timestep\n",
    "plot_all_runs(model_vars_df_list, \"Frac machines dead\")"
   ]
  },
  {
   "cell_type": "code",
   "execution_count": null,
   "id": "ba1be016-3608-42c3-8055-5d070e5e6aef",
   "metadata": {
    "collapsed": true,
    "jupyter": {
     "outputs_hidden": true
    }
   },
   "outputs": [],
   "source": []
  },
  {
   "cell_type": "code",
   "execution_count": null,
   "id": "ef364179-aef0-49f8-8634-3417fe12db76",
   "metadata": {
    "collapsed": true,
    "jupyter": {
     "outputs_hidden": true
    }
   },
   "outputs": [],
   "source": []
  }
 ],
 "metadata": {
  "kernelspec": {
   "display_name": "Python 3 (ipykernel)",
   "language": "python",
   "name": "python3"
  },
  "language_info": {
   "codemirror_mode": {
    "name": "ipython",
    "version": 3
   },
   "file_extension": ".py",
   "mimetype": "text/x-python",
   "name": "python",
   "nbconvert_exporter": "python",
   "pygments_lexer": "ipython3",
   "version": "3.12.1"
  }
 },
 "nbformat": 4,
 "nbformat_minor": 5
}
